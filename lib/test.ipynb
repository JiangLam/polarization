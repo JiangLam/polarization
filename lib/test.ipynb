{
 "cells": [
  {
   "cell_type": "code",
   "execution_count": 1,
   "id": "43927f57-97c7-46aa-9303-624ff4a80e4c",
   "metadata": {
    "execution": {
     "iopub.execute_input": "2023-12-23T15:39:29.326686Z",
     "iopub.status.busy": "2023-12-23T15:39:29.326686Z",
     "iopub.status.idle": "2023-12-23T15:39:32.026222Z",
     "shell.execute_reply": "2023-12-23T15:39:32.026222Z",
     "shell.execute_reply.started": "2023-12-23T15:39:29.326686Z"
    }
   },
   "outputs": [],
   "source": [
    "from builtins import enumerate, print, range, sum\n",
    "from scipy.io import loadmat, savemat\n",
    "import numpy as np\n",
    "from sklearn.cluster import MiniBatchKMeans\n",
    "import matplotlib.pyplot as plt\n",
    "import pylab \n",
    "import os"
   ]
  },
  {
   "cell_type": "code",
   "execution_count": 2,
   "id": "d772c246-1948-45e2-bcf5-fa36d18968df",
   "metadata": {
    "execution": {
     "iopub.execute_input": "2023-12-23T15:39:32.027222Z",
     "iopub.status.busy": "2023-12-23T15:39:32.027222Z",
     "iopub.status.idle": "2023-12-23T15:39:32.042125Z",
     "shell.execute_reply": "2023-12-23T15:39:32.042125Z",
     "shell.execute_reply.started": "2023-12-23T15:39:32.027222Z"
    }
   },
   "outputs": [],
   "source": [
    "file_path = [\"E:/data/day1/1\", \"E:/data/day1/2\", \"E:/data/day4/1\", \"E:/data/day4/2\",\n",
    "             \"E:/data/day5/1\", \"E:/data/day5/2\", \"E:/data/day7/1\", \"E:/data/day7/2\",\n",
    "             \"E:/data/day8/1\", \"E:/data/day8/2\", \"E:/data/day9/1\", \"E:/data/day9/2\"]\n",
    "n_samples = np.shape(file_path)[0]\n",
    "pixelnum = 512"
   ]
  },
  {
   "cell_type": "code",
   "execution_count": 5,
   "id": "59aded84-8e5c-48c3-a54d-3268e038321e",
   "metadata": {
    "execution": {
     "iopub.execute_input": "2023-12-23T15:46:25.588292Z",
     "iopub.status.busy": "2023-12-23T15:46:25.588292Z",
     "iopub.status.idle": "2023-12-23T15:47:41.399806Z",
     "shell.execute_reply": "2023-12-23T15:47:41.399806Z",
     "shell.execute_reply.started": "2023-12-23T15:46:25.588292Z"
    }
   },
   "outputs": [],
   "source": [
    "total_data = []\n",
    "for index, path in enumerate(file_path):\n",
    "    data = loadmat(path + \"/data/new_invariant.mat\")['new_invariant']\n",
    "    nRows, nCols, nDim = data.shape\n",
    "    data = data.reshape(data.shape[0]*data.shape[1],data.shape[2])\n",
    "    nNums = nRows*nCols\n",
    "    total_data.append(data)\n",
    "total_data = np.concatenate(total_data, axis=0)\n",
    "sampleNum = total_data.shape[0]\n",
    "\n",
    "cluster = MiniBatchKMeans(n_clusters=pixelnum, batch_size=10 * pixelnum, n_init='auto', random_state=2021214521)\n",
    "cluster.fit(total_data)\n",
    "label = cluster.labels_"
   ]
  },
  {
   "cell_type": "code",
   "execution_count": 6,
   "id": "e80bc684-b6ab-493c-af87-d92dcaee43f3",
   "metadata": {
    "execution": {
     "iopub.execute_input": "2023-12-23T15:47:41.401810Z",
     "iopub.status.busy": "2023-12-23T15:47:41.400806Z",
     "iopub.status.idle": "2023-12-23T15:47:41.778762Z",
     "shell.execute_reply": "2023-12-23T15:47:41.778762Z",
     "shell.execute_reply.started": "2023-12-23T15:47:41.401810Z"
    }
   },
   "outputs": [
    {
     "name": "stdout",
     "output_type": "stream",
     "text": [
      "(1861, 2271, 12)\n"
     ]
    }
   ],
   "source": [
    "labels = np.zeros([nRows, nCols, n_samples])\n",
    "for i in range(n_samples):\n",
    "    labels[:,:,i] = label[i*nNums:(i+1)*nNums].reshape(nRows, nCols)\n",
    "print(np.shape(labels))"
   ]
  },
  {
   "cell_type": "code",
   "execution_count": 63,
   "id": "fd72bcbc-7386-4278-8808-26b4962410ea",
   "metadata": {
    "execution": {
     "iopub.execute_input": "2023-12-22T16:56:29.472910Z",
     "iopub.status.busy": "2023-12-22T16:56:29.472910Z",
     "iopub.status.idle": "2023-12-22T16:56:39.905684Z",
     "shell.execute_reply": "2023-12-22T16:56:39.904684Z",
     "shell.execute_reply.started": "2023-12-22T16:56:29.472910Z"
    }
   },
   "outputs": [
    {
     "name": "stdout",
     "output_type": "stream",
     "text": [
      "(1861, 2271)\n",
      "(1861, 2271)\n",
      "(1861, 2271)\n",
      "(1861, 2271)\n",
      "(1861, 2271)\n",
      "(1861, 2271)\n",
      "(1861, 2271)\n",
      "(1861, 2271)\n",
      "(1861, 2271)\n",
      "(1861, 2271)\n",
      "(1861, 2271)\n",
      "(1861, 2271)\n"
     ]
    }
   ],
   "source": [
    "for index, path in enumerate(file_path):\n",
    "    m11 = loadmat(path+\"/m11.mat\")['CalibratedM11']\n",
    "    nRows, nCols = np.shape(m11)\n",
    "    locals()['label_sample_'+str(index)] = label[index*nNums:(index+1)*nNums].reshape(nRows, nCols)\n",
    "    eval('label_sample_'+str(index))"
   ]
  },
  {
   "cell_type": "code",
   "execution_count": 7,
   "id": "8292a7bb-118d-473f-a88f-21d0159551e1",
   "metadata": {
    "execution": {
     "iopub.execute_input": "2023-12-23T15:47:47.106520Z",
     "iopub.status.busy": "2023-12-23T15:47:47.106520Z",
     "iopub.status.idle": "2023-12-23T16:10:44.270436Z",
     "shell.execute_reply": "2023-12-23T16:10:44.270436Z",
     "shell.execute_reply.started": "2023-12-23T15:47:47.106520Z"
    }
   },
   "outputs": [],
   "source": [
    "superpixel_num = []\n",
    "for i in range(int(n_samples/2)):\n",
    "    num = []\n",
    "    for j in range(pixelnum):\n",
    "        num.append(sum(label[2 * i * nNums : (2 * i + 2) * nNums] == j))\n",
    "    superpixel_num = [*superpixel_num,[*num]]\n",
    "superpixel_ratio = np.divide(superpixel_num, sampleNum)"
   ]
  },
  {
   "cell_type": "code",
   "execution_count": 84,
   "id": "b3240a7e-5adb-4d13-bf42-1702106ddd3c",
   "metadata": {
    "execution": {
     "iopub.execute_input": "2023-12-23T12:54:53.852322Z",
     "iopub.status.busy": "2023-12-23T12:54:53.852322Z",
     "iopub.status.idle": "2023-12-23T12:54:53.872322Z",
     "shell.execute_reply": "2023-12-23T12:54:53.872322Z",
     "shell.execute_reply.started": "2023-12-23T12:54:53.852322Z"
    }
   },
   "outputs": [],
   "source": [
    "basic = superpixel_ratio[0, :]\n",
    "day4 = np.argsort(basic - superpixel_ratio[1, :])[::-1]\n",
    "day5 = np.argsort(basic - superpixel_ratio[2, :])[::-1]\n",
    "day7 = np.argsort(basic - superpixel_ratio[3, :])[::-1]\n",
    "day8 = np.argsort(basic - superpixel_ratio[4, :])[::-1]\n",
    "day9 = np.argsort(basic - superpixel_ratio[5, :])[::-1]"
   ]
  },
  {
   "cell_type": "code",
   "execution_count": 8,
   "id": "ea2d09ce-6e82-4433-b846-219d3ba8fcad",
   "metadata": {
    "execution": {
     "iopub.execute_input": "2023-12-23T16:10:44.271440Z",
     "iopub.status.busy": "2023-12-23T16:10:44.271440Z",
     "iopub.status.idle": "2023-12-23T16:10:44.286392Z",
     "shell.execute_reply": "2023-12-23T16:10:44.286392Z",
     "shell.execute_reply.started": "2023-12-23T16:10:44.271440Z"
    }
   },
   "outputs": [],
   "source": [
    "ratio_index = np.zeros([int(n_samples/2), pixelnum], dtype=int)\n",
    "ratio_data = np.zeros([int(n_samples/2), pixelnum])\n",
    "ratio_index[0, :] = superpixel_ratio[0, :]\n",
    "ratio_data[0, :] = superpixel_ratio[0, :]\n",
    "for i in range(1, int(n_samples/2)):\n",
    "    ratio_index[i, :] = np.argsort(ratio_data[0, :] - superpixel_ratio[i, :])[::-1]\n",
    "    ratio_data[i, :] = ratio_data[0, :] - superpixel_ratio[i, :]"
   ]
  },
  {
   "cell_type": "code",
   "execution_count": 17,
   "id": "98ca5e74-4a4b-4d44-81a4-90a01d83fc82",
   "metadata": {
    "execution": {
     "iopub.execute_input": "2023-12-23T16:37:29.843752Z",
     "iopub.status.busy": "2023-12-23T16:37:29.842761Z",
     "iopub.status.idle": "2023-12-23T16:39:04.090193Z",
     "shell.execute_reply": "2023-12-23T16:39:04.090193Z",
     "shell.execute_reply.started": "2023-12-23T16:37:29.843752Z"
    }
   },
   "outputs": [
    {
     "name": "stdout",
     "output_type": "stream",
     "text": [
      "[461 349  34 195  64  99 140  96 241 416 420 264  94 324 300  36 185  22\n",
      " 444 451 253   0 197 440 104 133 252 126 294 475 281 376 277  56 379 431\n",
      " 301 406 175 381 363 465   6  29 232 142 138  66 468 331  11 506 225 391\n",
      " 498 260  65  30 408   1 401 190 311 460 168 425 352 343 105 463 245 306\n",
      "  87 290 265  72 174 144 293 149 276 244 493 462 273  25 508 317 221 485\n",
      " 202 215 182 179 198  73 302 435 434 488]\n"
     ]
    }
   ],
   "source": [
    "sp_4 = np.flip(ratio_index[5,:])[:100]\n",
    "print(sp_4)\n",
    "temp = np.zeros([nRows,nCols])\n",
    "m11 = loadmat(file_path[11]+\"/m11.mat\")['CalibratedM11']\n",
    "path = file_path[11] + \"/pic/\"\n",
    "if not os.path.exists(path):\n",
    "    os.makedirs(path)\n",
    "j=0\n",
    "for i in sp_4:\n",
    "    temp += labels[:,:,11]==i\n",
    "    plt.figure()\n",
    "    plt.imshow(m11,'gray')\n",
    "    plt.imshow(temp,'RdBu',alpha=temp*0.7)\n",
    "    plt.axis('off')\n",
    "    plt.title(str(j))\n",
    "    plt.savefig(path+str(j)+\".jpg\", bbox_inches='tight')\n",
    "    plt.close()\n",
    "    j+=1"
   ]
  },
  {
   "cell_type": "code",
   "execution_count": null,
   "id": "2bac0c4b-705b-4c57-8b3d-2ff601f28a2a",
   "metadata": {},
   "outputs": [],
   "source": [
    "print(np.argsort(ratio_data[1,:]))\n",
    "print(np.flip(np.argsort(ratio_data[1,:])))"
   ]
  },
  {
   "cell_type": "code",
   "execution_count": 94,
   "id": "83e756b5-7fda-4f2f-b527-a4ed3c116e69",
   "metadata": {
    "execution": {
     "iopub.execute_input": "2023-12-23T13:01:09.232462Z",
     "iopub.status.busy": "2023-12-23T13:01:09.232462Z",
     "iopub.status.idle": "2023-12-23T13:01:09.529654Z",
     "shell.execute_reply": "2023-12-23T13:01:09.529654Z",
     "shell.execute_reply.started": "2023-12-23T13:01:09.232462Z"
    }
   },
   "outputs": [
    {
     "data": {
      "image/png": "[encoded data removed]",
      "text/plain": [
       "<Figure size 640x480 with 1 Axes>"
      ]
     },
     "metadata": {},
     "output_type": "display_data"
    }
   ],
   "source": [
    "plt.plot((ratio_data[1, :])[ratio_index[1, :]], label='day4')\n",
    "plt.plot((ratio_data[2, :])[ratio_index[2, :]], label='day5')\n",
    "plt.plot((ratio_data[3, :])[ratio_index[3, :]], label='day7')\n",
    "plt.plot((ratio_data[4, :])[ratio_index[4, :]], label='day8')\n",
    "plt.plot((ratio_data[5, :])[ratio_index[5, :]], label='day9')\n",
    "plt.legend(['day4', 'day5', 'day7', 'day8', 'day9'])\n",
    "plt.savefig(path + 'superpixel_ratio.jpg', bbox_inches='tight')"
   ]
  },
  {
   "cell_type": "code",
   "execution_count": 59,
   "id": "e46f278e-7015-4287-9bec-017fc05fb2dd",
   "metadata": {
    "execution": {
     "iopub.execute_input": "2023-12-22T16:25:31.917969Z",
     "iopub.status.busy": "2023-12-22T16:25:31.916974Z",
     "iopub.status.idle": "2023-12-22T16:25:31.930173Z",
     "shell.execute_reply": "2023-12-22T16:25:31.930173Z",
     "shell.execute_reply.started": "2023-12-22T16:25:31.917969Z"
    }
   },
   "outputs": [
    {
     "name": "stdout",
     "output_type": "stream",
     "text": [
      "[ 37 285 388  90 233 495 169 229 450 310 246 115 162 220  98 350 269 230\n",
      " 210 213 288  86 384 489  27 228 163 122  79   3  74 284 134 470 158  68\n",
      " 103 187 451 297 307 292 403 108 119 439 415 410 507 342 234 424 322 337\n",
      "  78 395 446 419 358  24 313 107  32 116 458 188 301 399 496 124  34 173\n",
      " 248 434 255 402 443 253 408   4 480 426 406 127 183 360 111 203 195 465\n",
      " 367 355 147  64 334 204 329 474 423 333 283  75 279 154 275 362 420   1\n",
      " 104  43 461 509 373 363 113 482 401 354 282 153 227  17 117   0 303 344\n",
      " 416 370 455   6 277 349 197 457  50 425  30 374 295 247  83  97  48 318\n",
      " 471 207 245 427 252 379 241 185 463 440 321 324 300 343 398 381  66 294\n",
      " 232  36 133 328  40 138  96 298  23 281 346  71  94  35 168 501 142 341\n",
      " 176  56 260 299 191 293 175 208  22 215  54 393 431  99 112 280 468 327\n",
      " 502 140 237 371 444 442 475 438 348 155 174 376 400 190 311  29 198 144\n",
      "  55 413 156 331 109 264 490 194 278  11 290 487  65 317 265  72 164 126\n",
      "  60 382  44  92 306 130 488 182 506 243 372   8 473  59 270  39 202  18\n",
      " 256 225 448 405 325 352 323  13 498 102  87 369  89 418 151 469 387 110\n",
      " 216 309 271 361 508 199 135 261 476  84 436  28 316  73 273 276 391 412\n",
      " 345 200  57 179  42 244 330 137  80 105 460 414 462 305 422 149 314 338\n",
      " 396 259 231 312  46 258 129 150  33 375 510 206  25  20  16 143  67 251\n",
      " 432 481 452 100 235 357 351 466  10 148 262 205  53 368 249 159  14 386\n",
      "  81 240 454 394 242  77 449  45 493 217 131  41 359 121  49  63 145 477\n",
      " 390 484  69  88 511 212 336 499  12 274 356 171 383   5  70 417 167 353\n",
      " 214 120 184 161 266 302 272 472 347 339  21 193 500 366 186 429 483 132\n",
      " 365  38 503 437 224 218   7  31 254 125 453 114 101 494 222 296  93 221\n",
      " 166 139 152 478 223 118 433 435 445 485 170 497 389 397 332 128 486  47\n",
      " 320 286 479 459 430 172 257 404 491 219 441 181 340 141 268 189 378  62\n",
      " 196 335 180 287  61  51 123  15 263   2 505 464 492 267 409   9 392 319\n",
      " 136  82  19 236 326  76 209 239 380 315 201 157 238  95 308 211 447 377\n",
      " 178  91 250 504 304  26 385 192 146 291 177  52  58 106 289 226 467 456\n",
      " 160 407 411 364 421  85 428 165]\n"
     ]
    }
   ],
   "source": [
    "print(day4)"
   ]
  },
  {
   "cell_type": "code",
   "execution_count": 45,
   "id": "782d66ed-b350-487a-a732-23792f7734d6",
   "metadata": {
    "execution": {
     "iopub.execute_input": "2023-12-21T17:47:56.724052Z",
     "iopub.status.busy": "2023-12-21T17:47:56.724052Z",
     "iopub.status.idle": "2023-12-21T17:47:56.750545Z",
     "shell.execute_reply": "2023-12-21T17:47:56.750545Z",
     "shell.execute_reply.started": "2023-12-21T17:47:56.724052Z"
    }
   },
   "outputs": [
    {
     "name": "stdout",
     "output_type": "stream",
     "text": [
      "[[0.5 1.  1.5]\n",
      " [1.5 2.  2.5]\n",
      " [2.  2.5 3. ]]\n"
     ]
    }
   ],
   "source": [
    "a = [[1,2,3],[3,4,5],[4,5,6]]\n",
    "b = np.divide(a, 2)\n",
    "print(b)"
   ]
  },
  {
   "cell_type": "code",
   "execution_count": 19,
   "id": "1daee541-1765-4202-87b7-d043e01a5b03",
   "metadata": {
    "execution": {
     "iopub.execute_input": "2023-12-23T17:26:09.580143Z",
     "iopub.status.busy": "2023-12-23T17:26:09.580143Z",
     "iopub.status.idle": "2023-12-23T17:26:09.586132Z",
     "shell.execute_reply": "2023-12-23T17:26:09.586132Z",
     "shell.execute_reply.started": "2023-12-23T17:26:09.580143Z"
    }
   },
   "outputs": [
    {
     "name": "stdout",
     "output_type": "stream",
     "text": [
      "e-ddd2\n"
     ]
    }
   ],
   "source": [
    "a = \"e\" + \"-\" + \"ddd\" + str(2)\n",
    "print(a)"
   ]
  },
  {
   "cell_type": "code",
   "execution_count": null,
   "id": "0a83f33a-ccf8-48ea-8e2a-2948b6529301",
   "metadata": {},
   "outputs": [],
   "source": []
  }
 ],
 "metadata": {
  "kernelspec": {
   "display_name": "tf2",
   "language": "python",
   "name": "tf2"
  },
  "language_info": {
   "codemirror_mode": {
    "name": "ipython",
    "version": 3
   },
   "file_extension": ".py",
   "mimetype": "text/x-python",
   "name": "python",
   "nbconvert_exporter": "python",
   "pygments_lexer": "ipython3",
   "version": "3.9.17"
  }
 },
 "nbformat": 4,
 "nbformat_minor": 5
}
