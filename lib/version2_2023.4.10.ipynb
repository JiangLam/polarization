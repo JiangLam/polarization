{
 "cells": [
  {
   "cell_type": "markdown",
   "id": "36c4a478-6c0c-4b0a-bf5c-95491356e416",
   "metadata": {
    "tags": []
   },
   "source": [
    "# Skin Follicle Sample Project"
   ]
  },
  {
   "cell_type": "markdown",
   "id": "c73dbf44-94df-4f5f-8106-e6b39209451e",
   "metadata": {
    "tags": []
   },
   "source": [
    "## Initialize"
   ]
  },
  {
   "cell_type": "code",
   "execution_count": 3,
   "id": "5cb1ce20-b8b2-4159-b9bb-7b3908827d43",
   "metadata": {
    "execution": {
     "iopub.execute_input": "2023-08-15T12:39:25.220852Z",
     "iopub.status.busy": "2023-08-15T12:39:25.220852Z",
     "iopub.status.idle": "2023-08-15T12:39:25.593873Z",
     "shell.execute_reply": "2023-08-15T12:39:25.591873Z",
     "shell.execute_reply.started": "2023-08-15T12:39:25.220852Z"
    },
    "tags": []
   },
   "outputs": [],
   "source": [
    "import numpy as np\n",
    "from pylab import *\n",
    "from pandas import *\n",
    "from scipy.io import loadmat,savemat\n",
    "from sklearn.decomposition import PCA\n",
    "from sklearn.preprocessing import StandardScaler\n",
    "from sklearn.cluster import MiniBatchKMeans"
   ]
  },
  {
   "cell_type": "code",
   "execution_count": 4,
   "id": "825bd7ac-0c99-44df-9964-f5a0b9d59275",
   "metadata": {
    "execution": {
     "iopub.execute_input": "2023-08-15T12:39:27.340886Z",
     "iopub.status.busy": "2023-08-15T12:39:27.340886Z",
     "iopub.status.idle": "2023-08-15T12:39:27.384186Z",
     "shell.execute_reply": "2023-08-15T12:39:27.383266Z",
     "shell.execute_reply.started": "2023-08-15T12:39:27.340886Z"
    },
    "tags": []
   },
   "outputs": [],
   "source": [
    "fc2 = ['DATA/day2con/1+1','DATA/day2con/1+2','DATA/day2con/1+3','DATA/day2con/1+4','DATA/day2con/1+5','DATA/day2con/1+6','DATA/day2con/1+7','DATA/day2con/1+8',\n",
    "     'DATA/day2con/1+9','DATA/day2con/1+10','DATA/day2con/1+11','DATA/day2con/1+12','DATA/day2con/1+13','DATA/day2con/1+14','DATA/day2con/1+15','DATA/day2con/1+16',\n",
    "     'DATA/day2con/2+1','DATA/day2con/2+2','DATA/day2con/2+3','DATA/day2con/2+4','DATA/day2con/2+5','DATA/day2con/2+6','DATA/day2con/2+7','DATA/day2con/2+8',\n",
    "     'DATA/day2con/2+9','DATA/day2con/2+10','DATA/day2con/2+11','DATA/day2con/2+12','DATA/day2con/2+13','DATA/day2con/2+14','DATA/day2con/2+15','DATA/day2con/2+16']\n",
    "\n",
    "fc4 = ['DATA/day4con/1+1','DATA/day4con/1+2','DATA/day4con/1+3','DATA/day4con/1+4','DATA/day4con/1+5','DATA/day4con/1+6','DATA/day4con/1+7','DATA/day4con/1+8',\n",
    "     'DATA/day4con/1+9','DATA/day4con/1+10','DATA/day4con/1+11','DATA/day4con/1+12','DATA/day4con/1+13','DATA/day4con/1+14','DATA/day4con/1+15','DATA/day4con/1+16',\n",
    "     'DATA/day4con/2+1','DATA/day4con/2+2','DATA/day4con/2+3','DATA/day4con/2+4','DATA/day4con/2+5','DATA/day4con/2+6','DATA/day4con/2+7','DATA/day4con/2+8',\n",
    "     'DATA/day4con/2+9','DATA/day4con/2+10','DATA/day4con/2+11','DATA/day4con/2+12','DATA/day4con/2+13','DATA/day4con/2+14','DATA/day4con/2+15','DATA/day4con/2+16']\n",
    "\n",
    "fc6 = ['DATA/day6con/1+1','DATA/day6con/1+2','DATA/day6con/1+3','DATA/day6con/1+4','DATA/day6con/1+5','DATA/day6con/1+6','DATA/day6con/1+7','DATA/day6con/1+8',\n",
    "     'DATA/day6con/1+9','DATA/day6con/1+10','DATA/day6con/1+11','DATA/day6con/1+12','DATA/day6con/1+13','DATA/day6con/1+14','DATA/day6con/1+15','DATA/day6con/1+16',\n",
    "     'DATA/day6con/2+1','DATA/day6con/2+2','DATA/day6con/2+3','DATA/day6con/2+4','DATA/day6con/2+5','DATA/day6con/2+6','DATA/day6con/2+7','DATA/day6con/2+8',\n",
    "     'DATA/day6con/2+9','DATA/day6con/2+10','DATA/day6con/2+11','DATA/day6con/2+12','DATA/day6con/2+13','DATA/day6con/2+14','DATA/day6con/2+15','DATA/day6con/2+16']\n",
    "\n",
    "fc8 = ['DATA/day8con/1+1','DATA/day8con/1+2','DATA/day8con/1+3','DATA/day8con/1+4','DATA/day8con/1+5','DATA/day8con/1+6','DATA/day8con/1+7','DATA/day8con/1+8',\n",
    "     'DATA/day8con/1+9','DATA/day8con/1+10','DATA/day8con/1+11','DATA/day8con/1+12','DATA/day8con/1+13','DATA/day8con/1+14','DATA/day8con/1+15','DATA/day8con/1+16',\n",
    "     'DATA/day8con/2+1','DATA/day8con/2+2','DATA/day8con/2+3','DATA/day8con/2+4','DATA/day8con/2+5','DATA/day8con/2+6','DATA/day8con/2+7','DATA/day8con/2+8',\n",
    "     'DATA/day8con/2+9','DATA/day8con/2+10','DATA/day8con/2+11','DATA/day8con/2+12','DATA/day8con/2+13','DATA/day8con/2+14','DATA/day8con/2+15','DATA/day8con/2+16']\n",
    "\n",
    "fc10 = ['DATA/day10con/1+1','DATA/day10con/1+2','DATA/day10con/1+3','DATA/day10con/1+4','DATA/day10con/1+5','DATA/day10con/1+6','DATA/day10con/1+7','DATA/day10con/1+8',\n",
    "      'DATA/day10con/1+9','DATA/day10con/1+10','DATA/day10con/1+11','DATA/day10con/1+12','DATA/day10con/1+13','DATA/day10con/1+14','DATA/day10con/1+15','DATA/day10con/1+16',\n",
    "      'DATA/day10con/2+1','DATA/day10con/2+2','DATA/day10con/2+3','DATA/day10con/2+4','DATA/day10con/2+5','DATA/day10con/2+6','DATA/day10con/2+7','DATA/day10con/2+8',\n",
    "      'DATA/day10con/2+9','DATA/day10con/2+10','DATA/day10con/2+11','DATA/day10con/2+12','DATA/day10con/2+13','DATA/day10con/2+14','DATA/day10con/2+15','DATA/day10con/2+16']\n",
    " \n",
    "fc12 = ['DATA/day12con/1+1','DATA/day12con/1+2','DATA/day12con/1+3','DATA/day12con/1+4','DATA/day12con/1+5','DATA/day12con/1+6','DATA/day12con/1+7','DATA/day12con/1+8',\n",
    "      'DATA/day12con/1+9','DATA/day12con/1+10','DATA/day12con/1+11','DATA/day12con/1+12','DATA/day12con/1+13','DATA/day12con/1+14','DATA/day12con/1+15','DATA/day12con/1+16',\n",
    "      'DATA/day12con/2+1','DATA/day12con/2+2','DATA/day12con/2+3','DATA/day12con/2+4','DATA/day12con/2+5','DATA/day12con/2+6','DATA/day12con/2+7','DATA/day12con/2+8',\n",
    "      'DATA/day12con/2+9','DATA/day12con/2+10','DATA/day12con/2+11','DATA/day12con/2+12','DATA/day12con/2+13','DATA/day12con/2+14','DATA/day12con/2+15','DATA/day12con/2+16']\n",
    "\n",
    "fc14 = ['DATA/day14con/1+1','DATA/day14con/1+2','DATA/day14con/1+3','DATA/day14con/1+4','DATA/day14con/1+5','DATA/day14con/1+6','DATA/day14con/1+7','DATA/day14con/1+8',\n",
    "      'DATA/day14con/1+9','DATA/day14con/1+10','DATA/day14con/1+11','DATA/day14con/1+12','DATA/day14con/1+13','DATA/day14con/1+14','DATA/day14con/1+15','DATA/day14con/1+16',\n",
    "      'DATA/day14con/2+1','DATA/day14con/2+2','DATA/day14con/2+3','DATA/day14con/2+4','DATA/day14con/2+5','DATA/day14con/2+6','DATA/day14con/2+7','DATA/day14con/2+8',\n",
    "      'DATA/day14con/2+9','DATA/day14con/2+10','DATA/day14con/2+11','DATA/day14con/2+12','DATA/day14con/2+13','DATA/day14con/2+14','DATA/day14con/2+15','DATA/day14con/2+16']\n",
    "\n",
    "fc16 = ['DATA/day16con/1+1','DATA/day16con/1+2','DATA/day16con/1+3','DATA/day16con/1+4','DATA/day16con/1+5','DATA/day16con/1+6','DATA/day16con/1+7','DATA/day16con/1+8',\n",
    "      'DATA/day16con/1+9','DATA/day16con/1+10','DATA/day16con/1+11','DATA/day16con/1+12','DATA/day16con/1+13','DATA/day16con/1+14','DATA/day16con/1+15','DATA/day16con/1+16',\n",
    "      'DATA/day16con/2+1','DATA/day16con/2+2','DATA/day16con/2+3','DATA/day16con/2+4','DATA/day16con/2+5','DATA/day16con/2+6','DATA/day16con/2+7','DATA/day16con/2+8',\n",
    "      'DATA/day16con/2+9','DATA/day16con/2+10','DATA/day16con/2+11','DATA/day16con/2+12','DATA/day16con/2+13','DATA/day16con/2+14','DATA/day16con/2+15','DATA/day16con/2+16']\n",
    "\n",
    "fc18 = ['DATA/day18con/1+1','DATA/day18con/1+2','DATA/day18con/1+3','DATA/day18con/1+4','DATA/day18con/1+5','DATA/day18con/1+6','DATA/day18con/1+7','DATA/day18con/1+8',\n",
    "      'DATA/day18con/1+9','DATA/day18con/1+10','DATA/day18con/1+11','DATA/day18con/1+12','DATA/day18con/1+13','DATA/day18con/1+14','DATA/day18con/1+15','DATA/day18con/1+16',\n",
    "      'DATA/day18con/2+1','DATA/day18con/2+2','DATA/day18con/2+3','DATA/day18con/2+4','DATA/day18con/2+5','DATA/day18con/2+6','DATA/day18con/2+7','DATA/day18con/2+8',\n",
    "      'DATA/day18con/2+9','DATA/day18con/2+10','DATA/day18con/2+11','DATA/day18con/2+12','DATA/day18con/2+13','DATA/day18con/2+14','DATA/day18con/2+15','DATA/day18con/2+16']\n",
    "\n",
    "fc20 = ['DATA/day20con/1+1','DATA/day20con/1+2','DATA/day20con/1+3','DATA/day20con/1+4','DATA/day20con/1+5','DATA/day20con/1+6','DATA/day20con/1+7','DATA/day20con/1+8',\n",
    "      'DATA/day20con/1+9','DATA/day20con/1+10','DATA/day20con/1+11','DATA/day20con/1+12','DATA/day20con/1+13','DATA/day20con/1+14','DATA/day20con/1+15','DATA/day20con/1+16',\n",
    "      'DATA/day20con/2+1','DATA/day20con/2+2','DATA/day20con/2+3','DATA/day20con/2+4','DATA/day20con/2+5','DATA/day20con/2+6','DATA/day20con/2+7','DATA/day20con/2+8',\n",
    "      'DATA/day20con/2+9','DATA/day20con/2+10','DATA/day20con/2+11','DATA/day20con/2+12','DATA/day20con/2+13','DATA/day20con/2+14','DATA/day20con/2+15','DATA/day20con/2+16']\n",
    "\n",
    "fc22 = ['DATA/day22con/1+1','DATA/day22con/1+2','DATA/day22con/1+3','DATA/day22con/1+4','DATA/day22con/1+5','DATA/day22con/1+6','DATA/day22con/1+7','DATA/day22con/1+8',\n",
    "      'DATA/day22con/1+9','DATA/day22con/1+10','DATA/day22con/1+11','DATA/day22con/1+12','DATA/day22con/1+13','DATA/day22con/1+14','DATA/day22con/1+15','DATA/day22con/1+16',\n",
    "      'DATA/day22con/2+1','DATA/day22con/2+2','DATA/day22con/2+3','DATA/day22con/2+4','DATA/day22con/2+5','DATA/day22con/2+6','DATA/day22con/2+7','DATA/day22con/2+8',\n",
    "      'DATA/day22con/2+9','DATA/day22con/2+10','DATA/day22con/2+11','DATA/day22con/2+12','DATA/day22con/2+13','DATA/day22con/2+14','DATA/day22con/2+15','DATA/day22con/2+16']\n",
    "\n",
    "fc24 = ['DATA/day24con/1+1','DATA/day24con/1+2','DATA/day24con/1+3','DATA/day24con/1+4','DATA/day24con/1+5','DATA/day24con/1+6','DATA/day24con/1+7','DATA/day24con/1+8',\n",
    "      'DATA/day24con/1+9','DATA/day24con/1+10','DATA/day24con/1+11','DATA/day24con/1+12','DATA/day24con/1+13','DATA/day24con/1+14','DATA/day24con/1+15','DATA/day24con/1+16',\n",
    "      'DATA/day24con/2+1','DATA/day24con/2+2','DATA/day24con/2+3','DATA/day24con/2+4','DATA/day24con/2+5','DATA/day24con/2+6','DATA/day24con/2+7','DATA/day24con/2+8',\n",
    "      'DATA/day24con/2+9','DATA/day24con/2+10','DATA/day24con/2+11','DATA/day24con/2+12','DATA/day24con/2+13','DATA/day24con/2+14','DATA/day24con/2+15','DATA/day24con/2+16']\n",
    "\n",
    "fc26 = ['DATA/day26con/1+1','DATA/day26con/1+2','DATA/day26con/1+3','DATA/day26con/1+4','DATA/day26con/1+5','DATA/day26con/1+6','DATA/day26con/1+7','DATA/day26con/1+8',\n",
    "      'DATA/day26con/1+9','DATA/day26con/1+10','DATA/day26con/1+11','DATA/day26con/1+12','DATA/day26con/1+13','DATA/day26con/1+14','DATA/day26con/1+15','DATA/day26con/1+16',\n",
    "      'DATA/day26con/2+1','DATA/day26con/2+2','DATA/day26con/2+3','DATA/day26con/2+4','DATA/day26con/2+5','DATA/day26con/2+6','DATA/day26con/2+7','DATA/day26con/2+8',\n",
    "      'DATA/day26con/2+9','DATA/day26con/2+10','DATA/day26con/2+11','DATA/day26con/2+12','DATA/day26con/2+13','DATA/day26con/2+14','DATA/day26con/2+15','DATA/day26con/2+16']\n",
    "\n",
    "ft2=['DATA/day2t/1+1','DATA/day2t/1+2','DATA/day2t/1+3','DATA/day2t/1+4','DATA/day2t/1+5','DATA/day2t/1+6','DATA/day2t/1+7','DATA/day2t/1+8',\n",
    "     'DATA/day2t/1+9','DATA/day2t/1+10','DATA/day2t/1+11','DATA/day2t/1+12','DATA/day2t/1+13','DATA/day2t/1+14','DATA/day2t/1+15','DATA/day2t/1+16',\n",
    "     'DATA/day2t/2+1','DATA/day2t/2+2','DATA/day2t/2+3','DATA/day2t/2+4','DATA/day2t/2+5','DATA/day2t/2+6','DATA/day2t/2+7','DATA/day2t/2+8',\n",
    "     'DATA/day2t/2+9','DATA/day2t/2+10','DATA/day2t/2+11','DATA/day2t/2+12','DATA/day2t/2+13','DATA/day2t/2+14','DATA/day2t/2+15','DATA/day2t/2+16']\n",
    "\n",
    "ft4=['DATA/day4t/1+1','DATA/day4t/1+2','DATA/day4t/1+3','DATA/day4t/1+4','DATA/day4t/1+5','DATA/day4t/1+6','DATA/day4t/1+7','DATA/day4t/1+8',\n",
    "     'DATA/day4t/1+9','DATA/day4t/1+10','DATA/day4t/1+11','DATA/day4t/1+12','DATA/day4t/1+13','DATA/day4t/1+14','DATA/day4t/1+15','DATA/day4t/1+16',\n",
    "     'DATA/day4t/2+1','DATA/day4t/2+2','DATA/day4t/2+3','DATA/day4t/2+4','DATA/day4t/2+5','DATA/day4t/2+6','DATA/day4t/2+7','DATA/day4t/2+8',\n",
    "     'DATA/day4t/2+9','DATA/day4t/2+10','DATA/day4t/2+11','DATA/day4t/2+12','DATA/day4t/2+13','DATA/day4t/2+14','DATA/day4t/2+15','DATA/day4t/2+16']\n",
    "\n",
    "ft6=['DATA/day6t/1+1','DATA/day6t/1+2','DATA/day6t/1+3','DATA/day6t/1+4','DATA/day6t/1+5','DATA/day6t/1+6','DATA/day6t/1+7','DATA/day6t/1+8',\n",
    "     'DATA/day6t/1+9','DATA/day6t/1+10','DATA/day6t/1+11','DATA/day6t/1+12','DATA/day6t/1+13','DATA/day6t/1+14','DATA/day6t/1+15','DATA/day6t/1+16',\n",
    "     'DATA/day6t/2+1','DATA/day6t/2+2','DATA/day6t/2+3','DATA/day6t/2+4','DATA/day6t/2+5','DATA/day6t/2+6','DATA/day6t/2+7','DATA/day6t/2+8',\n",
    "     'DATA/day6t/2+9','DATA/day6t/2+10','DATA/day6t/2+11','DATA/day6t/2+12','DATA/day6t/2+13','DATA/day6t/2+14','DATA/day6t/2+15','DATA/day6t/2+16']\n",
    "\n",
    "ft8=['DATA/day8t/1+1','DATA/day8t/1+2','DATA/day8t/1+3','DATA/day8t/1+4','DATA/day8t/1+5','DATA/day8t/1+6','DATA/day8t/1+7','DATA/day8t/1+8',\n",
    "     'DATA/day8t/1+9','DATA/day8t/1+10','DATA/day8t/1+11','DATA/day8t/1+12','DATA/day8t/1+13','DATA/day8t/1+14','DATA/day8t/1+15','DATA/day8t/1+16',\n",
    "     'DATA/day8t/2+1','DATA/day8t/2+2','DATA/day8t/2+3','DATA/day8t/2+4','DATA/day8t/2+5','DATA/day8t/2+6','DATA/day8t/2+7','DATA/day8t/2+8',\n",
    "     'DATA/day8t/2+9','DATA/day8t/2+10','DATA/day8t/2+11','DATA/day8t/2+12','DATA/day8t/2+13','DATA/day8t/2+14','DATA/day8t/2+15','DATA/day8t/2+16']\n",
    "\n",
    "ft10=['DATA/day10t/1+1','DATA/day10t/1+2','DATA/day10t/1+3','DATA/day10t/1+4','DATA/day10t/1+5','DATA/day10t/1+6','DATA/day10t/1+7','DATA/day10t/1+8',\n",
    "      'DATA/day10t/1+9','DATA/day10t/1+10','DATA/day10t/1+11','DATA/day10t/1+12','DATA/day10t/1+13','DATA/day10t/1+14','DATA/day10t/1+15','DATA/day10t/1+16',\n",
    "      'DATA/day10t/2+1','DATA/day10t/2+2','DATA/day10t/2+3','DATA/day10t/2+4','DATA/day10t/2+5','DATA/day10t/2+6','DATA/day10t/2+7','DATA/day10t/2+8',\n",
    "      'DATA/day10t/2+9','DATA/day10t/2+10','DATA/day10t/2+11','DATA/day10t/2+12','DATA/day10t/2+13','DATA/day10t/2+14','DATA/day10t/2+15','DATA/day10t/2+16']\n",
    "\n",
    "ft12=['DATA/day12t/1+1','DATA/day12t/1+2','DATA/day12t/1+3','DATA/day12t/1+4','DATA/day12t/1+5','DATA/day12t/1+6','DATA/day12t/1+7','DATA/day12t/1+8',\n",
    "      'DATA/day12t/1+9','DATA/day12t/1+10','DATA/day12t/1+11','DATA/day12t/1+12','DATA/day12t/1+13','DATA/day12t/1+14','DATA/day12t/1+15','DATA/day12t/1+16',\n",
    "      'DATA/day12t/2+1','DATA/day12t/2+2','DATA/day12t/2+3','DATA/day12t/2+4','DATA/day12t/2+5','DATA/day12t/2+6','DATA/day12t/2+7','DATA/day12t/2+8',\n",
    "      'DATA/day12t/2+9','DATA/day12t/2+10','DATA/day12t/2+11','DATA/day12t/2+12','DATA/day12t/2+13','DATA/day12t/2+14','DATA/day12t/2+15','DATA/day12t/2+16']\n",
    "\n",
    "ft14=['DATA/day14t/1+1','DATA/day14t/1+2','DATA/day14t/1+3','DATA/day14t/1+4','DATA/day14t/1+5','DATA/day14t/1+6','DATA/day14t/1+7','DATA/day14t/1+8',\n",
    "      'DATA/day14t/1+9','DATA/day14t/1+10','DATA/day14t/1+11','DATA/day14t/1+12','DATA/day14t/1+13','DATA/day14t/1+14','DATA/day14t/1+15','DATA/day14t/1+16',\n",
    "      'DATA/day14t/2+1','DATA/day14t/2+2','DATA/day14t/2+3','DATA/day14t/2+4','DATA/day14t/2+5','DATA/day14t/2+6','DATA/day14t/2+7','DATA/day14t/2+8',\n",
    "      'DATA/day14t/2+9','DATA/day14t/2+10','DATA/day14t/2+11','DATA/day14t/2+12','DATA/day14t/2+13','DATA/day14t/2+14','DATA/day14t/2+15','DATA/day14t/2+16']\n",
    "\n",
    "ft16=['DATA/day16t/1+1','DATA/day16t/1+2','DATA/day16t/1+3','DATA/day16t/1+4','DATA/day16t/1+5','DATA/day16t/1+6','DATA/day16t/1+7','DATA/day16t/1+8',\n",
    "      'DATA/day16t/1+9','DATA/day16t/1+10','DATA/day16t/1+11','DATA/day16t/1+12','DATA/day16t/1+13','DATA/day16t/1+14','DATA/day16t/1+15','DATA/day16t/1+16',\n",
    "      'DATA/day16t/2+1','DATA/day16t/2+2','DATA/day16t/2+3','DATA/day16t/2+4','DATA/day16t/2+5','DATA/day16t/2+6','DATA/day16t/2+7','DATA/day16t/2+8',\n",
    "      'DATA/day16t/2+9','DATA/day16t/2+10','DATA/day16t/2+11','DATA/day16t/2+12','DATA/day16t/2+13','DATA/day16t/2+14','DATA/day16t/2+15','DATA/day16t/2+16']\n",
    "\n",
    "ft18=['DATA/day18t/1+1','DATA/day18t/1+2','DATA/day18t/1+3','DATA/day18t/1+4','DATA/day18t/1+5','DATA/day18t/1+6','DATA/day18t/1+7','DATA/day18t/1+8',\n",
    "      'DATA/day18t/1+9','DATA/day18t/1+10','DATA/day18t/1+11','DATA/day18t/1+12','DATA/day18t/1+13','DATA/day18t/1+14','DATA/day18t/1+15','DATA/day18t/1+16',\n",
    "      'DATA/day18t/2+1','DATA/day18t/2+2','DATA/day18t/2+3','DATA/day18t/2+4','DATA/day18t/2+5','DATA/day18t/2+6','DATA/day18t/2+7','DATA/day18t/2+8',\n",
    "      'DATA/day18t/2+9','DATA/day18t/2+10','DATA/day18t/2+11','DATA/day18t/2+12','DATA/day18t/2+13','DATA/day18t/2+14','DATA/day18t/2+15','DATA/day18t/2+16']\n",
    "\n",
    "ft20=['DATA/day20t/1+1','DATA/day20t/1+2','DATA/day20t/1+3','DATA/day20t/1+4','DATA/day20t/1+5','DATA/day20t/1+6','DATA/day20t/1+7','DATA/day20t/1+8',\n",
    "      'DATA/day20t/1+9','DATA/day20t/1+10','DATA/day20t/1+11','DATA/day20t/1+12','DATA/day20t/1+13','DATA/day20t/1+14','DATA/day20t/1+15','DATA/day20t/1+16',\n",
    "      'DATA/day20t/2+1','DATA/day20t/2+2','DATA/day20t/2+3','DATA/day20t/2+4','DATA/day20t/2+5','DATA/day20t/2+6','DATA/day20t/2+7','DATA/day20t/2+8',\n",
    "      'DATA/day20t/2+9','DATA/day20t/2+10','DATA/day20t/2+11','DATA/day20t/2+12','DATA/day20t/2+13','DATA/day20t/2+14','DATA/day20t/2+15','DATA/day20t/2+16']\n",
    "\n",
    "ft22=['DATA/day22t/1+1','DATA/day22t/1+2','DATA/day22t/1+3','DATA/day22t/1+4','DATA/day22t/1+5','DATA/day22t/1+6','DATA/day22t/1+7','DATA/day22t/1+8',\n",
    "      'DATA/day22t/1+9','DATA/day22t/1+10','DATA/day22t/1+11','DATA/day22t/1+12','DATA/day22t/1+13','DATA/day22t/1+14','DATA/day22t/1+15','DATA/day22t/1+16',\n",
    "      'DATA/day22t/2+1','DATA/day22t/2+2','DATA/day22t/2+3','DATA/day22t/2+4','DATA/day22t/2+5','DATA/day22t/2+6','DATA/day22t/2+7','DATA/day22t/2+8',\n",
    "      'DATA/day22t/2+9','DATA/day22t/2+10','DATA/day22t/2+11','DATA/day22t/2+12','DATA/day22t/2+13','DATA/day22t/2+14','DATA/day22t/2+15','DATA/day22t/2+16']\n",
    "\n",
    "ft24=['DATA/day24t/1+1','DATA/day24t/1+2','DATA/day24t/1+3','DATA/day24t/1+4','DATA/day24t/1+5','DATA/day24t/1+6','DATA/day24t/1+7','DATA/day24t/1+8',\n",
    "      'DATA/day24t/1+9','DATA/day24t/1+10','DATA/day24t/1+11','DATA/day24t/1+12','DATA/day24t/1+13','DATA/day24t/1+14','DATA/day24t/1+15','DATA/day24t/1+16',\n",
    "      'DATA/day24t/2+1','DATA/day24t/2+2','DATA/day24t/2+3','DATA/day24t/2+4','DATA/day24t/2+5','DATA/day24t/2+6','DATA/day24t/2+7','DATA/day24t/2+8',\n",
    "      'DATA/day24t/2+9','DATA/day24t/2+10','DATA/day24t/2+11','DATA/day24t/2+12','DATA/day24t/2+13','DATA/day24t/2+14','DATA/day24t/2+15','DATA/day24t/2+16']\n",
    "\n",
    "ft26=['DATA/day26t/1+1','DATA/day26t/1+2','DATA/day26t/1+3','DATA/day26t/1+4','DATA/day26t/1+5','DATA/day26t/1+6','DATA/day26t/1+7','DATA/day26t/1+8',\n",
    "      'DATA/day26t/1+9','DATA/day26t/1+10','DATA/day26t/1+11','DATA/day26t/1+12','DATA/day26t/1+13','DATA/day26t/1+14','DATA/day26t/1+15','DATA/day26t/1+16',\n",
    "      'DATA/day26t/2+1','DATA/day26t/2+2','DATA/day26t/2+3','DATA/day26t/2+4','DATA/day26t/2+5','DATA/day26t/2+6','DATA/day26t/2+7','DATA/day26t/2+8',\n",
    "      'DATA/day26t/2+9','DATA/day26t/2+10','DATA/day26t/2+11','DATA/day26t/2+12','DATA/day26t/2+13','DATA/day26t/2+14','DATA/day26t/2+15','DATA/day26t/2+16']\n"
   ]
  },
  {
   "cell_type": "markdown",
   "id": "b65cc23b-98b3-4d2e-9767-7ed5a1a3156d",
   "metadata": {
    "tags": []
   },
   "source": [
    "## Preprocessing"
   ]
  },
  {
   "cell_type": "markdown",
   "id": "49daec26-4458-434e-82a0-34df7a2169d8",
   "metadata": {
    "tags": []
   },
   "source": [
    "### Polarimetric Superpixel"
   ]
  },
  {
   "cell_type": "code",
   "execution_count": null,
   "id": "cba09d39-2daf-47cf-8445-45c83958a2dc",
   "metadata": {},
   "outputs": [],
   "source": [
    "def Superpixel_preprocessing(data,MMpbp,clustern=1024):\n",
    "    \n",
    "    #读矩阵数据\n",
    "    temp=[]\n",
    "    parameters=['FinalM12','FinalM13','FinalM14',\n",
    "                'FinalM21','FinalM22','FinalM23','FinalM24',\n",
    "                'FinalM31','FinalM32','FinalM33','FinalM34',\n",
    "                'FinalM41','FinalM42','FinalM43','FinalM44']\n",
    "    for para in parameters:\n",
    "        temp.append( data[para] )\n",
    "    MM=stack(temp,axis=2) \n",
    "    \n",
    "    # PCA 去相关性 & 降维\n",
    "    MM_2d=MM.reshape(MM.shape[0]*MM.shape[1],MM.shape[2])\n",
    "    ss=StandardScaler()\n",
    "    xx=ss.fit_transform(MM_2d)\n",
    "    pca = PCA(n_components=15)\n",
    "    MM_pca = pca.fit_transform(xx)\n",
    "    \n",
    "    #进行超像素计算\n",
    "    ss1=StandardScaler()\n",
    "    xx1=ss1.fit_transform(MM_pca)\n",
    "    km=MiniBatchKMeans(n_clusters=clustern,batch_size=10*clustern,n_init=10, random_state=2021214521)\n",
    "    km.fit(xx1)        \n",
    "\n",
    "    #总结以及输出结果\n",
    "    groups=[]\n",
    "    groups_mean=[]\n",
    "    groups_std=[]\n",
    "    for i in range(clustern):\n",
    "        groups_mean.append(MMpbp[km.labels_.reshape(MM.shape[:2])==i].mean(axis=0))\n",
    "        groups_std.append(MMpbp[km.labels_.reshape(MM.shape[:2])==i].std(axis=0))\n",
    "        groups=append(groups_mean,groups_std,axis=1)\n",
    "    groups=np.array(groups)\n",
    "\n",
    "    return groups, km.labels_.reshape(MM.shape[:2])"
   ]
  },
  {
   "cell_type": "markdown",
   "id": "5d5f6106-a080-42a6-a0ba-593a8b6f03a9",
   "metadata": {},
   "source": [
    "### Superpixel Procedure"
   ]
  },
  {
   "cell_type": "code",
   "execution_count": null,
   "id": "9266b76d-c468-4d58-8a7d-cb2f7b381f9d",
   "metadata": {},
   "outputs": [],
   "source": [
    "fl = fc2+ft2+fc4+ft4\n",
    "print(shape(fl))"
   ]
  },
  {
   "cell_type": "code",
   "execution_count": null,
   "id": "8beda625-9d00-4f22-b26f-ee22d2b3209d",
   "metadata": {},
   "outputs": [],
   "source": [
    "for file_path in fl:\n",
    "    print(file_path)\n",
    "    data=loadmat(file_path+'/FinalMM.mat')\n",
    "    MMpbp=loadmat(file_path+'/pbps_1.mat') ['pbps']\n",
    "    groups,km_labels=Superpixel_preprocessing(data,MMpbp,clustern=1024)       \n",
    "    savemat(file_path+'/groups_1.mat',{'groups':groups})\n",
    "    savemat(file_path+'/km_labels_1.mat',{'km_labels':km_labels})"
   ]
  },
  {
   "cell_type": "markdown",
   "id": "11f94022-5c3c-495d-b657-4f7b4d19f9df",
   "metadata": {},
   "source": [
    "## Make Total Groups"
   ]
  },
  {
   "cell_type": "code",
   "execution_count": null,
   "id": "1d24fe2a-613a-450b-8777-797f4f1f5b91",
   "metadata": {},
   "outputs": [],
   "source": [
    "fl=fc2[1:16]\n",
    "print(fl)"
   ]
  },
  {
   "cell_type": "code",
   "execution_count": null,
   "id": "785e9fba-4297-4759-9ca8-5d8c3c5db050",
   "metadata": {},
   "outputs": [],
   "source": [
    "total_groups=[]\n",
    "for path_ in fl:\n",
    "    file_path=path_+'/'\n",
    "    total_groups.append(loadmat(file_path+'groups')['groups'])\n",
    "total_groups=concatenate(total_groups,axis=0)\n",
    "ss=StandardScaler()\n",
    "xxx_=ss.fit_transform(total_groups[:])\n",
    "print(total_groups.shape)"
   ]
  },
  {
   "cell_type": "code",
   "execution_count": null,
   "id": "f65dfcba-848b-41bc-a0c2-a7c9ba8fb298",
   "metadata": {},
   "outputs": [],
   "source": [
    "min(xxx_[:,1])"
   ]
  },
  {
   "cell_type": "code",
   "execution_count": null,
   "id": "8c534079-0712-417a-b792-a78d3583b164",
   "metadata": {},
   "outputs": [],
   "source": [
    "from scipy import stats\n",
    "xxx_[:,0],bc_para=stats.boxcox(xxx_[:,0])\n",
    "xxx_[:,1],bc_para=stats.boxcox(xxx_[:,1])\n",
    "xxx_[:,36],bc_para=stats.boxcox(xxx_[:,36])\n",
    "xxx_[:,37],bc_para=stats.boxcox(xxx_[:,37])"
   ]
  },
  {
   "cell_type": "code",
   "execution_count": null,
   "id": "b9ab2a82-8dcb-4cbe-b477-1b511c052d86",
   "metadata": {},
   "outputs": [],
   "source": [
    "df=DataFrame(xxx_)\n",
    "df.hist(bins=200,figsize=(30,30))\n",
    "ss=StandardScaler()\n",
    "xxx_=ss.fit_transform(xxx_[:])"
   ]
  },
  {
   "cell_type": "code",
   "execution_count": null,
   "id": "62657b05-6801-445e-82d1-d445f7b315c0",
   "metadata": {},
   "outputs": [],
   "source": [
    "from sklearn.cluster import KMeans\n",
    "from sklearn.mixture import GaussianMixture\n",
    "\n",
    "km = KMeans(n_clusters=8 , random_state=2021214521)\n",
    "km.fit_transform(xxx_)\n",
    "labelkm=km.labels_\n",
    "print('KMeans compolete')\n",
    "savemat('labelkm.mat',{'labelkm':labelkm})\n",
    "\n",
    "gmm = GaussianMixture(n_components=8, max_iter=300, random_state=2021214521)\n",
    "labelgmm = gmm.fit_predict(xxx_)\n",
    "probagmm=gmm.predict_proba(xxx_)\n",
    "print('GMM compolete')\n",
    "savemat('labelgmm.mat',{'labelgmm':labelgmm})"
   ]
  },
  {
   "cell_type": "markdown",
   "id": "945108df-7346-49f8-bb7e-3a3926fa464c",
   "metadata": {},
   "source": [
    "## UMAP Projection"
   ]
  },
  {
   "cell_type": "markdown",
   "id": "d39f7ef6-63f9-4f63-8550-21af5704c9fc",
   "metadata": {
    "jp-MarkdownHeadingCollapsed": true,
    "tags": []
   },
   "source": [
    "### UMAP & Plot result"
   ]
  },
  {
   "cell_type": "code",
   "execution_count": null,
   "id": "79657baf-3427-4bc3-a78d-aa1650678485",
   "metadata": {},
   "outputs": [],
   "source": [
    "import umap\n",
    "umap_reducer=umap.UMAP(n_components=2,n_neighbors=30,min_dist=0.1,metric='canberra',spread=1.,\n",
    "                       verbose=True,random_state=2021214521,n_epochs=1200)\n",
    "trans=umap_reducer.fit(xxx_[:])"
   ]
  },
  {
   "cell_type": "code",
   "execution_count": null,
   "id": "4af55a8d-faa1-4412-8844-ea44aeefbe7f",
   "metadata": {},
   "outputs": [],
   "source": [
    "import umap.plot\n",
    "umap.plot.points(trans,labels=labelgmm,theme='fire')"
   ]
  },
  {
   "cell_type": "markdown",
   "id": "95cf69fc-4a21-412e-a7fe-b5ecff31a116",
   "metadata": {
    "tags": []
   },
   "source": [
    "### Hot-Spot Map"
   ]
  },
  {
   "cell_type": "code",
   "execution_count": null,
   "id": "de16166d-e575-4266-820d-6cf68f309ff8",
   "metadata": {},
   "outputs": [],
   "source": [
    "xxx=trans.transform(xxx_[:,]).astype('float16')\n",
    "num=array(range(0,319488+1,12288))\n",
    "h=size(num)\n",
    "for i in range(0,27,2):\n",
    "    x = xxx[num[i]:num[i+1],0]\n",
    "    y = xxx[num[i]:num[i+1],1]\n",
    "    xmin = xxx[:,0].min()-1\n",
    "    xmax = xxx[:,0].max()+1\n",
    "    ymin = xxx[:,1].min()-1\n",
    "    ymax = xxx[:,1].max()+1\n",
    "    fig, axs = plt.subplots(ncols=2, sharey=True, figsize=(14,5))\n",
    "    fig.subplots_adjust(hspace=0.5, left=0.07, right=0.93)\n",
    "    ax = axs[0]\n",
    "    hb = ax.hexbin(x, y, gridsize=200, cmap='YlGnBu',vmax=30,extent =  (xmin, xmax, ymin, ymax),mincnt=1)\n",
    "    ax.axis('off')\n",
    "    ax.set(xlim=(xmin, xmax), ylim=(ymin, ymax))\n",
    "    cb = fig.colorbar(hb, ax=ax)\n",
    "    \n",
    "    x = xxx[num[i+1]:num[i+2],0]\n",
    "    y = xxx[num[i+1]:num[i+2],1]\n",
    "    xmin = xxx[:,0].min()-1\n",
    "    xmax = xxx[:,0].max()+1\n",
    "    ymin = xxx[:,1].min()-1\n",
    "    ymax = xxx[:,1].max()+1\n",
    "    ax = axs[1]\n",
    "    hb = ax.hexbin(x, y, gridsize=200, cmap='YlGnBu',vmax=30,extent =  (xmin, xmax, ymin, ymax),mincnt=1)\n",
    "    ax.axis('off')\n",
    "    ax.set(xlim=(xmin, xmax), ylim=(ymin, ymax))\n",
    "    cb = fig.colorbar(hb, ax=ax)\n",
    "    \n",
    "    plt.savefig('test'+str(i)+'.png', dpi=500, bbox_inches='tight')\n",
    "    plt.show()\n",
    "    tight_layout()"
   ]
  },
  {
   "cell_type": "markdown",
   "id": "9ce2c08f-0ee5-4922-bc21-e8f5129aa9d0",
   "metadata": {},
   "source": [
    "### Save Cluster Result"
   ]
  },
  {
   "cell_type": "code",
   "execution_count": 1,
   "id": "49dc64f2-3ad5-48e8-bed4-dcc569d4c099",
   "metadata": {
    "execution": {
     "iopub.execute_input": "2023-06-03T08:54:41.533181Z",
     "iopub.status.busy": "2023-06-03T08:54:41.533181Z",
     "iopub.status.idle": "2023-06-03T08:54:41.859175Z",
     "shell.execute_reply": "2023-06-03T08:54:41.858176Z",
     "shell.execute_reply.started": "2023-06-03T08:54:41.533181Z"
    }
   },
   "outputs": [
    {
     "ename": "NameError",
     "evalue": "name 'fl' is not defined",
     "output_type": "error",
     "traceback": [
      "\u001b[1;31m---------------------------------------------------------------------------\u001b[0m",
      "\u001b[1;31mNameError\u001b[0m                                 Traceback (most recent call last)",
      "\u001b[1;32m~\\AppData\\Local\\Temp\\ipykernel_16144\\2286996494.py\u001b[0m in \u001b[0;36m<module>\u001b[1;34m\u001b[0m\n\u001b[0;32m      1\u001b[0m \u001b[1;32mfor\u001b[0m \u001b[0mii\u001b[0m \u001b[1;32min\u001b[0m \u001b[0mrange\u001b[0m\u001b[1;33m(\u001b[0m\u001b[1;36m300\u001b[0m\u001b[1;33m)\u001b[0m\u001b[1;33m:\u001b[0m\u001b[1;33m\u001b[0m\u001b[1;33m\u001b[0m\u001b[0m\n\u001b[1;32m----> 2\u001b[1;33m     \u001b[0mn\u001b[0m\u001b[1;33m=\u001b[0m\u001b[0mfl\u001b[0m\u001b[1;33m[\u001b[0m\u001b[0mii\u001b[0m\u001b[1;33m]\u001b[0m\u001b[1;33m\u001b[0m\u001b[1;33m\u001b[0m\u001b[0m\n\u001b[0m\u001b[0;32m      3\u001b[0m     \u001b[0mlab_test\u001b[0m\u001b[1;33m=\u001b[0m\u001b[0mloadmat\u001b[0m\u001b[1;33m(\u001b[0m\u001b[0mn\u001b[0m\u001b[1;33m+\u001b[0m\u001b[1;34m'/km_labels.mat'\u001b[0m\u001b[1;33m)\u001b[0m\u001b[1;33m[\u001b[0m\u001b[1;34m'km_labels'\u001b[0m\u001b[1;33m]\u001b[0m\u001b[1;33m\u001b[0m\u001b[1;33m\u001b[0m\u001b[0m\n\u001b[0;32m      4\u001b[0m     \u001b[0mcn\u001b[0m\u001b[1;33m=\u001b[0m\u001b[0mlab_test\u001b[0m\u001b[1;33m.\u001b[0m\u001b[0mmax\u001b[0m\u001b[1;33m(\u001b[0m\u001b[1;33m)\u001b[0m\u001b[1;33m+\u001b[0m\u001b[1;36m1\u001b[0m\u001b[1;33m\u001b[0m\u001b[1;33m\u001b[0m\u001b[0m\n\u001b[0;32m      5\u001b[0m     \u001b[0mfin_img\u001b[0m\u001b[1;33m=\u001b[0m\u001b[0mzeros\u001b[0m\u001b[1;33m(\u001b[0m\u001b[0mlab_test\u001b[0m\u001b[1;33m.\u001b[0m\u001b[0mshape\u001b[0m\u001b[1;33m[\u001b[0m\u001b[1;33m:\u001b[0m\u001b[1;36m2\u001b[0m\u001b[1;33m]\u001b[0m\u001b[1;33m)\u001b[0m\u001b[1;33m\u001b[0m\u001b[1;33m\u001b[0m\u001b[0m\n",
      "\u001b[1;31mNameError\u001b[0m: name 'fl' is not defined"
     ]
    }
   ],
   "source": [
    "for ii in range(300):\n",
    "    n=fl[ii]\n",
    "    lab_test=loadmat(n+'/km_labels.mat')['km_labels']\n",
    "    cn=lab_test.max()+1\n",
    "    fin_img=zeros(lab_test.shape[:2])\n",
    "    label_=labelgmm[ii*1024:(ii+1)*1024]\n",
    "    for i in range(cn):\n",
    "        fin_img[lab_test==i]=label_[i]\n",
    "    plt.imshow(fin_img,cmap='jet')\n",
    "    savemat(n+'/fin_img.mat',{'fin_img':fin_img})\n",
    "    plt.colorbar()\n",
    "    plt.savefig(n+'cluster_result.jpg',dpi=1000,bbox_inches='tight')\n",
    "    clf()\n",
    "    print(n)"
   ]
  },
  {
   "cell_type": "markdown",
   "id": "a0b75792-9982-408a-8433-a077c9f49e55",
   "metadata": {},
   "source": [
    "## Pearson Correlation Coefficient"
   ]
  },
  {
   "cell_type": "markdown",
   "id": "42959ffc-35a3-479f-b79b-641c4314e5bd",
   "metadata": {},
   "source": [
    "### Calculate Pixel Numbers"
   ]
  },
  {
   "cell_type": "code",
   "execution_count": null,
   "id": "29801064-a103-44f9-a5b1-306a4f0d8598",
   "metadata": {},
   "outputs": [],
   "source": [
    "cluster_labels = loadmat('labelgmm.mat')['labelgmm']\n",
    "print(cluster_labels.shape)\n",
    "pixnums=[]\n",
    "pixnum=[]\n",
    "for i in range(24):\n",
    "    for j in range(10):\n",
    "        pixnum.append(sum(cluster_labels[0,i*8192:(i+1)*8192]==j))\n",
    "    pixnums.append(pixnum)\n",
    "    pixnum=[]\n",
    "print(array(pixnums).shape)   \n",
    "print(pixnums)\n",
    "#savemat('pixnums.mat',{'pixnums':pixnums})"
   ]
  },
  {
   "cell_type": "code",
   "execution_count": null,
   "id": "acf8dedc-ae7c-462d-8830-436b66d89e04",
   "metadata": {},
   "outputs": [],
   "source": [
    "cluster_labels = loadmat('labelgmm.mat')['labelgmm']\n",
    "print(cluster_labels.shape)\n",
    "a=[]\n",
    "z=[]\n",
    "m=[]\n",
    "for i in range(24):\n",
    "    n=fl[4*i:4*(i+1)]\n",
    "    km_labels=[]\n",
    "    for k in range(4):\n",
    "        km_labels=loadmat(n[k]+'/km_labels_1.mat')['km_labels']\n",
    "        km_labels=km_labels.reshape(km_labels.shape[0] * km_labels.shape[1],1) \n",
    "        mask=np.array(cluster_labels[0,2048*i:2048*(i+1)])       \n",
    "        for l in range(10):\n",
    "            b = [j for j, e in enumerate(mask) if e == l]\n",
    "            pixnum=[]\n",
    "            for j in b:\n",
    "                pixnum.append(sum(km_labels==j))    \n",
    "            a.append(sum(pixnum))\n",
    "        z.append(a)\n",
    "        a=[]\n",
    "    c=list(map(sum, zip(*z)))\n",
    "    m.append(c)\n",
    "    c=[]\n",
    "    z=[]  \n",
    "print(shape(m))"
   ]
  },
  {
   "cell_type": "markdown",
   "id": "f2df24cc-bc4b-4f4c-a682-d89b004dff34",
   "metadata": {},
   "source": [
    "### Ratio of Each Cluaster's Pixel Number"
   ]
  },
  {
   "cell_type": "code",
   "execution_count": null,
   "id": "ae4bbc89-8d4d-4ca9-b934-7fce4beed243",
   "metadata": {},
   "outputs": [],
   "source": [
    "num = 8192\n",
    "ratio = np.array(m)\n",
    "ratio_con = ratio[0:12,:]\n",
    "ratio_t = ratio[12:24,:]\n",
    "print(type(ratio_t))\n",
    "print(ratio_t.shape)"
   ]
  },
  {
   "cell_type": "code",
   "execution_count": null,
   "id": "259f0378-96c6-486c-b33a-0c183eb49535",
   "metadata": {},
   "outputs": [],
   "source": [
    "num = 8192\n",
    "ratio = np.array(pixnums)\n",
    "ratio_con = ratio[0:12,:]\n",
    "ratio_t = ratio[12:24,:]\n",
    "print(type(ratio_t))\n",
    "print(ratio_t.shape)"
   ]
  },
  {
   "cell_type": "code",
   "execution_count": null,
   "id": "f8c5cae7-a710-4ab7-a307-ad49fdd85b65",
   "metadata": {},
   "outputs": [],
   "source": [
    "x=range(12)\n",
    "for i in range(10):\n",
    "    fig=plt.figure(figsize=(10,6.18),dpi=100) \n",
    "    ax=fig.add_subplot(111)\n",
    "    ax.plot(x,ratio_con[:,i],label='control')\n",
    "    ax.plot(x,ratio_t[:,i],label='test')\n",
    "    #ax.set_ylim([0,0.42])\n",
    "    plt.legend()\n",
    "    plt.ylabel('Ratio of Each Cluster Pixel')\n",
    "    plt.xlabel('Time')\n",
    "    plt.title(str(i+1)+' cluster')    \n",
    "    plt.savefig(str(i+1)+' cluster.jpg',dpi=100,bbox_inches='tight')"
   ]
  },
  {
   "cell_type": "markdown",
   "id": "a3db574b-2e82-43b5-8217-65f5ff86c885",
   "metadata": {},
   "source": [
    "### Caluculate Pearson Co-Co"
   ]
  },
  {
   "cell_type": "code",
   "execution_count": null,
   "id": "d1852b06-8498-45f6-a574-172f7b009a9f",
   "metadata": {},
   "outputs": [],
   "source": [
    "days=transpose(range(1,13,1))\n",
    "pearsons_con=[]\n",
    "pix = np.array(ratio_con)\n",
    "m=np.array(m)\n",
    "for i in range(10):\n",
    "    pearson=corrcoef(np.array(pix[:,i]),days)\n",
    "    pearsons_con.append(pearson[0,1])\n",
    "print(array(pearsons_con).shape)"
   ]
  },
  {
   "cell_type": "code",
   "execution_count": null,
   "id": "e5bd4d30-f0db-46ab-a75e-763450071627",
   "metadata": {},
   "outputs": [],
   "source": [
    "days=transpose(range(1,13,1))\n",
    "pearsons_t=[]\n",
    "pix = np.array(ratio_t)\n",
    "for i in range(10):\n",
    "    pearson=corrcoef(np.array(pix[:,i]),days)\n",
    "    pearsons_t.append(pearson[0,1])\n",
    "print(array(pearsons_t).shape)"
   ]
  },
  {
   "cell_type": "markdown",
   "id": "4c3be1f9-6e0e-4209-b409-8624e5d718c0",
   "metadata": {},
   "source": [
    "### Plot Graph"
   ]
  },
  {
   "cell_type": "code",
   "execution_count": null,
   "id": "1fed18a5-00b4-4fb3-b3e1-8fd7931531a0",
   "metadata": {},
   "outputs": [],
   "source": [
    "x=np.array(range(1,11,1))\n",
    "plt.figure(figsize=(10,6.18),dpi=300)\n",
    "plt.bar(x-0.2,array(pearsons_con),width = 0.4,label='control')\n",
    "plt.bar(x+0.2,array(pearsons_t),width = 0.4,label='test')\n",
    "plt.xticks(x)\n",
    "plt.legend()\n",
    "plt.ylabel('Pearson Correlation Coefficient')\n",
    "plt.xlabel('Clusters Number')\n",
    "plt.title(\"Person Correlation Coefficient of different clusters (control)\")\n",
    "plt.savefig('Person Correlation Coefficient of different clusters.jpg',dpi=500,bbox_inches='tight')"
   ]
  },
  {
   "cell_type": "markdown",
   "id": "1866371e-30df-4dfc-b06f-1893ae070761",
   "metadata": {
    "tags": []
   },
   "source": [
    "# Feature Engineering"
   ]
  },
  {
   "cell_type": "markdown",
   "id": "dc7d713d-45c7-49d7-96c2-c1a88103162a",
   "metadata": {},
   "source": [
    "## Select PBPs"
   ]
  },
  {
   "cell_type": "markdown",
   "id": "0cabb95d-97ae-4991-8fc5-acd3216d3091",
   "metadata": {},
   "source": [
    "### Reduce PBPs Number Base on Correlation"
   ]
  },
  {
   "cell_type": "code",
   "execution_count": 1,
   "id": "519c8b42-7303-405c-94b1-e1ca13572c05",
   "metadata": {
    "execution": {
     "iopub.execute_input": "2023-08-15T12:39:16.370985Z",
     "iopub.status.busy": "2023-08-15T12:39:16.369985Z",
     "iopub.status.idle": "2023-08-15T12:39:19.773560Z",
     "shell.execute_reply": "2023-08-15T12:39:19.773560Z",
     "shell.execute_reply.started": "2023-08-15T12:39:16.370985Z"
    }
   },
   "outputs": [],
   "source": [
    "import seaborn as sns"
   ]
  },
  {
   "cell_type": "code",
   "execution_count": 5,
   "id": "bc4e9ba4-6b56-4570-9228-fe465abc51fc",
   "metadata": {
    "execution": {
     "iopub.execute_input": "2023-08-15T12:40:00.430442Z",
     "iopub.status.busy": "2023-08-15T12:40:00.430442Z",
     "iopub.status.idle": "2023-08-15T12:40:00.680441Z",
     "shell.execute_reply": "2023-08-15T12:40:00.679441Z",
     "shell.execute_reply.started": "2023-08-15T12:40:00.430442Z"
    }
   },
   "outputs": [
    {
     "ename": "FileNotFoundError",
     "evalue": "[Errno 2] No such file or directory: 'DATA/day2con/1+1/pbps_6.mat'",
     "output_type": "error",
     "traceback": [
      "\u001b[1;31m---------------------------------------------------------------------------\u001b[0m",
      "\u001b[1;31mFileNotFoundError\u001b[0m                         Traceback (most recent call last)",
      "File \u001b[1;32mD:\\Miniconda\\envs\\tf2\\lib\\site-packages\\scipy\\io\\matlab\\_mio.py:39\u001b[0m, in \u001b[0;36m_open_file\u001b[1;34m(file_like, appendmat, mode)\u001b[0m\n\u001b[0;32m     38\u001b[0m \u001b[38;5;28;01mtry\u001b[39;00m:\n\u001b[1;32m---> 39\u001b[0m     \u001b[38;5;28;01mreturn\u001b[39;00m \u001b[38;5;28;43mopen\u001b[39;49m\u001b[43m(\u001b[49m\u001b[43mfile_like\u001b[49m\u001b[43m,\u001b[49m\u001b[43m \u001b[49m\u001b[43mmode\u001b[49m\u001b[43m)\u001b[49m, \u001b[38;5;28;01mTrue\u001b[39;00m\n\u001b[0;32m     40\u001b[0m \u001b[38;5;28;01mexcept\u001b[39;00m \u001b[38;5;167;01mOSError\u001b[39;00m \u001b[38;5;28;01mas\u001b[39;00m e:\n\u001b[0;32m     41\u001b[0m     \u001b[38;5;66;03m# Probably \"not found\"\u001b[39;00m\n",
      "\u001b[1;31mFileNotFoundError\u001b[0m: [Errno 2] No such file or directory: 'DATA/day2con/1+1/pbps_6.mat'",
      "\nDuring handling of the above exception, another exception occurred:\n",
      "\u001b[1;31mFileNotFoundError\u001b[0m                         Traceback (most recent call last)",
      "Cell \u001b[1;32mIn[5], line 1\u001b[0m\n\u001b[1;32m----> 1\u001b[0m MMpbp\u001b[38;5;241m=\u001b[39m\u001b[43mloadmat\u001b[49m\u001b[43m(\u001b[49m\u001b[38;5;124;43m'\u001b[39;49m\u001b[38;5;124;43mDATA/day2con/1+1\u001b[39;49m\u001b[38;5;124;43m'\u001b[39;49m\u001b[38;5;241;43m+\u001b[39;49m\u001b[38;5;124;43m'\u001b[39;49m\u001b[38;5;124;43m/pbps_6.mat\u001b[39;49m\u001b[38;5;124;43m'\u001b[39;49m\u001b[43m)\u001b[49m [\u001b[38;5;124m'\u001b[39m\u001b[38;5;124mpbps\u001b[39m\u001b[38;5;124m'\u001b[39m]\n\u001b[0;32m      2\u001b[0m MMpbp_2d\u001b[38;5;241m=\u001b[39mMMpbp\u001b[38;5;241m.\u001b[39mreshape(MMpbp\u001b[38;5;241m.\u001b[39mshape[\u001b[38;5;241m0\u001b[39m]\u001b[38;5;241m*\u001b[39mMMpbp\u001b[38;5;241m.\u001b[39mshape[\u001b[38;5;241m1\u001b[39m],MMpbp\u001b[38;5;241m.\u001b[39mshape[\u001b[38;5;241m2\u001b[39m])\n\u001b[0;32m      3\u001b[0m \u001b[38;5;28mprint\u001b[39m(MMpbp_2d\u001b[38;5;241m.\u001b[39mshape)\n",
      "File \u001b[1;32mD:\\Miniconda\\envs\\tf2\\lib\\site-packages\\scipy\\io\\matlab\\_mio.py:225\u001b[0m, in \u001b[0;36mloadmat\u001b[1;34m(file_name, mdict, appendmat, **kwargs)\u001b[0m\n\u001b[0;32m     88\u001b[0m \u001b[38;5;250m\u001b[39m\u001b[38;5;124;03m\"\"\"\u001b[39;00m\n\u001b[0;32m     89\u001b[0m \u001b[38;5;124;03mLoad MATLAB file.\u001b[39;00m\n\u001b[0;32m     90\u001b[0m \n\u001b[1;32m   (...)\u001b[0m\n\u001b[0;32m    222\u001b[0m \u001b[38;5;124;03m    3.14159265+3.14159265j])\u001b[39;00m\n\u001b[0;32m    223\u001b[0m \u001b[38;5;124;03m\"\"\"\u001b[39;00m\n\u001b[0;32m    224\u001b[0m variable_names \u001b[38;5;241m=\u001b[39m kwargs\u001b[38;5;241m.\u001b[39mpop(\u001b[38;5;124m'\u001b[39m\u001b[38;5;124mvariable_names\u001b[39m\u001b[38;5;124m'\u001b[39m, \u001b[38;5;28;01mNone\u001b[39;00m)\n\u001b[1;32m--> 225\u001b[0m \u001b[38;5;28;01mwith\u001b[39;00m _open_file_context(file_name, appendmat) \u001b[38;5;28;01mas\u001b[39;00m f:\n\u001b[0;32m    226\u001b[0m     MR, _ \u001b[38;5;241m=\u001b[39m mat_reader_factory(f, \u001b[38;5;241m*\u001b[39m\u001b[38;5;241m*\u001b[39mkwargs)\n\u001b[0;32m    227\u001b[0m     matfile_dict \u001b[38;5;241m=\u001b[39m MR\u001b[38;5;241m.\u001b[39mget_variables(variable_names)\n",
      "File \u001b[1;32mD:\\Miniconda\\envs\\tf2\\lib\\contextlib.py:119\u001b[0m, in \u001b[0;36m_GeneratorContextManager.__enter__\u001b[1;34m(self)\u001b[0m\n\u001b[0;32m    117\u001b[0m \u001b[38;5;28;01mdel\u001b[39;00m \u001b[38;5;28mself\u001b[39m\u001b[38;5;241m.\u001b[39margs, \u001b[38;5;28mself\u001b[39m\u001b[38;5;241m.\u001b[39mkwds, \u001b[38;5;28mself\u001b[39m\u001b[38;5;241m.\u001b[39mfunc\n\u001b[0;32m    118\u001b[0m \u001b[38;5;28;01mtry\u001b[39;00m:\n\u001b[1;32m--> 119\u001b[0m     \u001b[38;5;28;01mreturn\u001b[39;00m \u001b[38;5;28;43mnext\u001b[39;49m\u001b[43m(\u001b[49m\u001b[38;5;28;43mself\u001b[39;49m\u001b[38;5;241;43m.\u001b[39;49m\u001b[43mgen\u001b[49m\u001b[43m)\u001b[49m\n\u001b[0;32m    120\u001b[0m \u001b[38;5;28;01mexcept\u001b[39;00m \u001b[38;5;167;01mStopIteration\u001b[39;00m:\n\u001b[0;32m    121\u001b[0m     \u001b[38;5;28;01mraise\u001b[39;00m \u001b[38;5;167;01mRuntimeError\u001b[39;00m(\u001b[38;5;124m\"\u001b[39m\u001b[38;5;124mgenerator didn\u001b[39m\u001b[38;5;124m'\u001b[39m\u001b[38;5;124mt yield\u001b[39m\u001b[38;5;124m\"\u001b[39m) \u001b[38;5;28;01mfrom\u001b[39;00m \u001b[38;5;28;01mNone\u001b[39;00m\n",
      "File \u001b[1;32mD:\\Miniconda\\envs\\tf2\\lib\\site-packages\\scipy\\io\\matlab\\_mio.py:17\u001b[0m, in \u001b[0;36m_open_file_context\u001b[1;34m(file_like, appendmat, mode)\u001b[0m\n\u001b[0;32m     15\u001b[0m \u001b[38;5;129m@contextmanager\u001b[39m\n\u001b[0;32m     16\u001b[0m \u001b[38;5;28;01mdef\u001b[39;00m \u001b[38;5;21m_open_file_context\u001b[39m(file_like, appendmat, mode\u001b[38;5;241m=\u001b[39m\u001b[38;5;124m'\u001b[39m\u001b[38;5;124mrb\u001b[39m\u001b[38;5;124m'\u001b[39m):\n\u001b[1;32m---> 17\u001b[0m     f, opened \u001b[38;5;241m=\u001b[39m \u001b[43m_open_file\u001b[49m\u001b[43m(\u001b[49m\u001b[43mfile_like\u001b[49m\u001b[43m,\u001b[49m\u001b[43m \u001b[49m\u001b[43mappendmat\u001b[49m\u001b[43m,\u001b[49m\u001b[43m \u001b[49m\u001b[43mmode\u001b[49m\u001b[43m)\u001b[49m\n\u001b[0;32m     18\u001b[0m     \u001b[38;5;28;01mtry\u001b[39;00m:\n\u001b[0;32m     19\u001b[0m         \u001b[38;5;28;01myield\u001b[39;00m f\n",
      "File \u001b[1;32mD:\\Miniconda\\envs\\tf2\\lib\\site-packages\\scipy\\io\\matlab\\_mio.py:45\u001b[0m, in \u001b[0;36m_open_file\u001b[1;34m(file_like, appendmat, mode)\u001b[0m\n\u001b[0;32m     43\u001b[0m     \u001b[38;5;28;01mif\u001b[39;00m appendmat \u001b[38;5;129;01mand\u001b[39;00m \u001b[38;5;129;01mnot\u001b[39;00m file_like\u001b[38;5;241m.\u001b[39mendswith(\u001b[38;5;124m'\u001b[39m\u001b[38;5;124m.mat\u001b[39m\u001b[38;5;124m'\u001b[39m):\n\u001b[0;32m     44\u001b[0m         file_like \u001b[38;5;241m+\u001b[39m\u001b[38;5;241m=\u001b[39m \u001b[38;5;124m'\u001b[39m\u001b[38;5;124m.mat\u001b[39m\u001b[38;5;124m'\u001b[39m\n\u001b[1;32m---> 45\u001b[0m     \u001b[38;5;28;01mreturn\u001b[39;00m \u001b[38;5;28;43mopen\u001b[39;49m\u001b[43m(\u001b[49m\u001b[43mfile_like\u001b[49m\u001b[43m,\u001b[49m\u001b[43m \u001b[49m\u001b[43mmode\u001b[49m\u001b[43m)\u001b[49m, \u001b[38;5;28;01mTrue\u001b[39;00m\n\u001b[0;32m     46\u001b[0m \u001b[38;5;28;01melse\u001b[39;00m:\n\u001b[0;32m     47\u001b[0m     \u001b[38;5;28;01mraise\u001b[39;00m \u001b[38;5;167;01mOSError\u001b[39;00m(\n\u001b[0;32m     48\u001b[0m         \u001b[38;5;124m'\u001b[39m\u001b[38;5;124mReader needs file name or open file-like object\u001b[39m\u001b[38;5;124m'\u001b[39m\n\u001b[0;32m     49\u001b[0m     ) \u001b[38;5;28;01mfrom\u001b[39;00m \u001b[38;5;21;01me\u001b[39;00m\n",
      "\u001b[1;31mFileNotFoundError\u001b[0m: [Errno 2] No such file or directory: 'DATA/day2con/1+1/pbps_6.mat'"
     ]
    }
   ],
   "source": [
    "MMpbp=loadmat('DATA/day2con/1+1'+'/pbps_6.mat') ['pbps']\n",
    "MMpbp_2d=MMpbp.reshape(MMpbp.shape[0]*MMpbp.shape[1],MMpbp.shape[2])\n",
    "print(MMpbp_2d.shape)"
   ]
  },
  {
   "cell_type": "code",
   "execution_count": null,
   "id": "e7a6be45-e0d8-40a0-9481-db120a116622",
   "metadata": {},
   "outputs": [],
   "source": [
    "pbps=['MMT t1', 'FinalM14', 'FinalM41', 'MMT_t_4243', 'MMT_t_1213', 'FinalM44', 'PLsubDL','PLsubrL','MMT P9','MMT P10','E7',\n",
    "                 'P dot D'];\n",
    "      \n",
    "shape(pbps)"
   ]
  },
  {
   "cell_type": "code",
   "execution_count": null,
   "id": "12d67d0c-fab7-4516-adde-1082ce35e449",
   "metadata": {},
   "outputs": [],
   "source": [
    "DATA = DataFrame(MMpbp_2d,columns=pbps,dtype=np.float)\n",
    "plt.subplots(figsize = (40,30))\n",
    "sns.heatmap(DATA.corr().abs(),annot=True)"
   ]
  },
  {
   "cell_type": "code",
   "execution_count": null,
   "id": "e16df24d-0d79-4700-a4d4-b63f605d27b3",
   "metadata": {},
   "outputs": [],
   "source": [
    "import numpy as np\n",
    "import pandas as pd"
   ]
  },
  {
   "cell_type": "code",
   "execution_count": null,
   "id": "8ff90e40-c545-4059-be05-9db66f123f60",
   "metadata": {},
   "outputs": [],
   "source": [
    "data=pd.DataFrame(MMpbp_2d,columns=pbps)\n",
    "data.hist(bins=300,figsize=(30,30))"
   ]
  },
  {
   "cell_type": "code",
   "execution_count": null,
   "id": "ffa06ea5-2f99-4155-a5fe-8503c75d8631",
   "metadata": {},
   "outputs": [],
   "source": [
    "MMpbp_2d[:,0],bc_para=stats.boxcox(MMpbp_2d[:,0])\n",
    "MMpbp_2d[:,3],bc_para=stats.boxcox(MMpbp_2d[:,3])\n",
    "MMpbp_2d[:,4],bc_para=stats.boxcox(MMpbp_2d[:,4])\n",
    "MMpbp_2d[:,8],bc_para=stats.boxcox(MMpbp_2d[:,8])"
   ]
  },
  {
   "cell_type": "markdown",
   "id": "a4776794-04d7-4d3d-90bd-779d1139bcff",
   "metadata": {},
   "source": [
    "### Reduce PBPs Number Base on Cluster Mask"
   ]
  },
  {
   "cell_type": "code",
   "execution_count": null,
   "id": "f6559ce2-603b-457a-b8fb-ca598995f479",
   "metadata": {},
   "outputs": [],
   "source": [
    "result=loadmat('DATA/day2con/1+1'+'/fin_img.mat') ['fin_img']\n",
    "cluster_1 = np.array([result == 0])\n",
    "clusters_1 = cluster_1 + 0\n",
    "clusters_1s = clusters_1.reshape(result.shape[0],result.shape[1])\n",
    "cluster_2 = np.array([result == 1])\n",
    "clusters_2 = cluster_2 + 0\n",
    "clusters_2s = clusters_2.reshape(result.shape[0],result.shape[1])\n",
    "cluster_3 = np.array([result == 2])\n",
    "clusters_3 = cluster_3 + 0\n",
    "clusters_3s = clusters_3.reshape(result.shape[0],result.shape[1])\n",
    "cluster_4 = np.array([result == 3])\n",
    "clusters_4 = cluster_4 + 0\n",
    "clusters_4s = clusters_4.reshape(result.shape[0],result.shape[1])\n",
    "cluster_5 = np.array([result == 4])\n",
    "clusters_5 = cluster_5 + 0\n",
    "clusters_5s = clusters_5.reshape(result.shape[0],result.shape[1])\n",
    "cluster_6 = np.array([result == 5])\n",
    "clusters_6 = cluster_6 + 0\n",
    "clusters_6s = clusters_6.reshape(result.shape[0],result.shape[1])\n",
    "cluster_7 = np.array([result == 6])\n",
    "clusters_7 = cluster_7 + 0\n",
    "clusters_7s = clusters_7.reshape(result.shape[0],result.shape[1])\n",
    "cluster_8 = np.array([result == 7])\n",
    "clusters_8 = cluster_8 + 0\n",
    "clusters_8s = clusters_8.reshape(result.shape[0],result.shape[1])\n",
    "plt.imshow(clusters_1s)\n",
    "plt.savefig('clusters_1.jpg',dpi=1000,bbox_inches='tight')\n",
    "plt.imshow(clusters_2s)\n",
    "plt.savefig('clusters_2.jpg',dpi=1000,bbox_inches='tight')\n",
    "plt.imshow(clusters_3s)\n",
    "plt.savefig('clusters_3.jpg',dpi=1000,bbox_inches='tight')\n",
    "plt.imshow(clusters_4s)\n",
    "plt.savefig('clusters_4.jpg',dpi=1000,bbox_inches='tight')\n",
    "plt.imshow(clusters_5s)\n",
    "plt.savefig('clusters_5.jpg',dpi=1000,bbox_inches='tight')\n",
    "plt.imshow(clusters_6s)\n",
    "plt.savefig('clusters_6.jpg',dpi=1000,bbox_inches='tight')\n",
    "plt.imshow(clusters_7s)\n",
    "plt.savefig('clusters_7.jpg',dpi=1000,bbox_inches='tight')\n",
    "plt.imshow(clusters_8s)\n",
    "plt.savefig('clusters_8.jpg',dpi=1000,bbox_inches='tight')"
   ]
  },
  {
   "cell_type": "code",
   "execution_count": null,
   "id": "ecca47bf-105d-4259-915a-693b537dd81c",
   "metadata": {},
   "outputs": [],
   "source": [
    "cluster1=clusters_1.T.reshape(cluster_1.T.shape[0]*cluster_1.T.shape[1],cluster_1.T.shape[2])\n",
    "cluster2=clusters_2.T.reshape(cluster_2.T.shape[0]*cluster_2.T.shape[1],cluster_2.T.shape[2])\n",
    "cluster3=clusters_3.T.reshape(cluster_3.T.shape[0]*cluster_3.T.shape[1],cluster_3.T.shape[2])\n",
    "cluster4=clusters_4.T.reshape(cluster_4.T.shape[0]*cluster_4.T.shape[1],cluster_4.T.shape[2])\n",
    "cluster5=clusters_5.T.reshape(cluster_5.T.shape[0]*cluster_5.T.shape[1],cluster_5.T.shape[2])\n",
    "cluster6=clusters_6.T.reshape(cluster_6.T.shape[0]*cluster_6.T.shape[1],cluster_6.T.shape[2])\n",
    "cluster7=clusters_7.T.reshape(cluster_7.T.shape[0]*cluster_7.T.shape[1],cluster_7.T.shape[2])\n",
    "cluster8=clusters_8.T.reshape(cluster_8.T.shape[0]*cluster_8.T.shape[1],cluster_8.T.shape[2])"
   ]
  },
  {
   "cell_type": "code",
   "execution_count": null,
   "id": "535e39e6-b4e5-4d6f-966a-dfc775d19582",
   "metadata": {},
   "outputs": [],
   "source": [
    "cluster=cluster2+cluster4+cluster8\n",
    "clusterresult=clusters_2s+clusters_4s+clusters_8s\n",
    "print(shape(clusterresult))\n",
    "imshow(clusterresult)\n",
    "savefig('clusters.jpg',dpi=1000,bbox_inches='tight')"
   ]
  },
  {
   "cell_type": "code",
   "execution_count": null,
   "id": "12fb63f2-b2a3-4aad-afd9-65e530d2a31f",
   "metadata": {},
   "outputs": [],
   "source": [
    "ss=StandardScaler()\n",
    "MMpbp_ss = ss.fit_transform(MMpbp_2d)\n",
    "DATA=DataFrame(MMpbp_ss,columns=column,dtype=np.float)\n",
    "DATA['cluster'] = cluster\n",
    "DATA.corr().abs()['cluster']"
   ]
  },
  {
   "cell_type": "markdown",
   "id": "7189c712-2920-4e20-b813-d41941211e1f",
   "metadata": {},
   "source": [
    "## Mueller Matrix Feature"
   ]
  },
  {
   "cell_type": "code",
   "execution_count": null,
   "id": "79476dc7-e712-4a45-b798-7889824d83e2",
   "metadata": {},
   "outputs": [],
   "source": [
    "data=loadmat('DATA/day2con/1+1'+'/FinalMM.mat') \n",
    "temp=[]\n",
    "parameters=['FinalM12','FinalM13','FinalM14',\n",
    "            'FinalM21','FinalM22','FinalM23','FinalM24',\n",
    "            'FinalM31','FinalM32','FinalM33','FinalM34',\n",
    "            'FinalM41','FinalM42','FinalM43','FinalM44']\n",
    "for para in parameters:\n",
    "    temp.append( data[para] )\n",
    "MM=stack(temp,axis=2) \n",
    "print(shape(MM))"
   ]
  },
  {
   "cell_type": "code",
   "execution_count": null,
   "id": "57ac96ee-2b4f-4cb6-be2c-7a64f8830cfa",
   "metadata": {},
   "outputs": [],
   "source": [
    "MM_2d=MM.reshape(MM.shape[0]*MM.shape[1],MM.shape[2])\n",
    "DATA=DataFrame(MM_2d,columns=parameters)\n",
    "plt.subplots(figsize = (30,20))\n",
    "sns.heatmap(DATA.corr().abs(),annot=True)"
   ]
  },
  {
   "cell_type": "code",
   "execution_count": null,
   "id": "02af7e2b-cbc3-4d13-9c18-1458d3a2c93e",
   "metadata": {},
   "outputs": [],
   "source": [
    "from sklearn.decomposition import PCA\n",
    "pca = PCA(n_components=15,whiten=True,random_state=2021214521)\n",
    "MM_pca = pca.fit_transform(MM_2d)\n",
    "mm=MM_pca.reshape(MM.shape[0],MM.shape[1],MM.shape[2])\n",
    "plt.subplots(figsize = (30,20))\n",
    "imshow(mm[:,:,14],cmap='jet')\n",
    "colorbar()\n",
    "DATA=DataFrame(MM_pac)\n",
    "DATA.hist(bins=500,figsize=(15,15))"
   ]
  },
  {
   "cell_type": "markdown",
   "id": "fff12f86-3f95-4e8f-a06b-c77c53d74857",
   "metadata": {
    "tags": []
   },
   "source": [
    "# Experiment New Method"
   ]
  },
  {
   "cell_type": "code",
   "execution_count": null,
   "id": "5c441219-4d36-4160-9d82-7126414480cc",
   "metadata": {},
   "outputs": [],
   "source": [
    "fl = ['DATA/day2con/1+1','DATA/day2con/1+2','DATA/day2con/1+3','DATA/day2con/1+4','DATA/day2con/1+5','DATA/day2con/1+6','DATA/day2con/1+7','DATA/day2con/1+8',\n",
    "     'DATA/day2con/1+9','DATA/day2con/1+10','DATA/day2con/1+11','DATA/day2con/1+12','DATA/day2con/1+13','DATA/day2con/1+14','DATA/day2con/1+15','DATA/day2con/1+16',\n",
    "     'DATA/day2con/2+1','DATA/day2con/2+2','DATA/day2con/2+3','DATA/day2con/2+4','DATA/day2con/2+5','DATA/day2con/2+6','DATA/day2con/2+7','DATA/day2con/2+8',\n",
    "     'DATA/day2con/2+9','DATA/day2con/2+10','DATA/day2con/2+11','DATA/day2con/2+12','DATA/day2con/2+13','DATA/day2con/2+14','DATA/day2con/2+15','DATA/day2con/2+16']"
   ]
  },
  {
   "cell_type": "code",
   "execution_count": null,
   "id": "56a838a8-9b47-410b-8f7d-c6c152ad140e",
   "metadata": {},
   "outputs": [],
   "source": [
    "def Superpixel_preprocessing(data,MMpbp,clustern=1024):\n",
    "    \n",
    "    #读矩阵数据\n",
    "    temp=[]\n",
    "    parameters=['FinalM11','FinalM12','FinalM13','FinalM14',\n",
    "                'FinalM21','FinalM22','FinalM23','FinalM24',\n",
    "                'FinalM31','FinalM32','FinalM33','FinalM34',\n",
    "                'FinalM41','FinalM42','FinalM43','FinalM44']\n",
    "    for para in parameters:\n",
    "        temp.append( data[para] )\n",
    "    MM=stack(temp,axis=2) \n",
    "    \n",
    "    # 获取缪勒矩阵旋转不变量\n",
    "    DL=sqrt(MM[:,:,1]**2 + MM[:,:,2]**2)\n",
    "    #PL=sqrt(MM[:,:,4]**2 + MM[:,:,8]**2)\n",
    "    rL=sqrt(MM[:,:,7]**2 + MM[:,:,11]**2)\n",
    "    #qL=sqrt(MM[:,:,13]**2 + MM[:,:,14]**2)\n",
    "    t1=0.5*sqrt((MM[:,:,5]-MM[:,:,10])**2 + (MM[:,:,6]+MM[:,:,9])**2)\n",
    "    MM_new=stack((t1,MM[:,:,3],MM[:,:,12],rL,DL,MM[:,:,15]), axis=2)\n",
    "    MM_new_2d=MM_new.reshape(MM_new.shape[0]*MM_new.shape[1],MM_new.shape[2])\n",
    "    \n",
    "    # MM 数值变换\n",
    "    from scipy import stats\n",
    "    MM_new_2d[:,0],bc_para=stats.boxcox(MM_new_2d[:,0])\n",
    "    MM_new_2d[:,3],bc_para=stats.boxcox(MM_new_2d[:,3])\n",
    "    MM_new_2d[:,4],bc_para=stats.boxcox(MM_new_2d[:,4])\n",
    "    \n",
    "    # PCA 去相关性 & 降维\n",
    "    #ss=StandardScaler()\n",
    "    #xx=ss.fit_transform(MM_new_2d)\n",
    "    #pca = PCA(n_components=15)\n",
    "    #MM_pca = pca.fit_transform(xx)\n",
    "    \n",
    "    #进行超像素计算\n",
    "    ss=StandardScaler()\n",
    "    xx=ss.fit_transform(MM_new_2d)\n",
    "    km=MiniBatchKMeans(n_clusters=clustern,batch_size=10*clustern,n_init=10, random_state=2021214521)\n",
    "    km.fit(xx)        \n",
    "    \n",
    "    # PBP 数值变换\n",
    "    #MMpbp_2d=MMpbp.reshape(MM.shape[0]*MM.shape[1],MMpbp.shape[2])\n",
    "    #MMpbp_2d[:,0],bc_para=stats.boxcox(MMpbp_2d[:,0])\n",
    "    #MMpbp_2d[:,3],bc_para=stats.boxcox(MMpbp_2d[:,3])\n",
    "    #MMpbp_2d[:,4],bc_para=stats.boxcox(MMpbp_2d[:,4])\n",
    "    #MMpbp_2d[:,8],bc_para=stats.boxcox(MMpbp_2d[:,8])\n",
    "    \n",
    "    #总结以及输出结果\n",
    "    groups=[]\n",
    "    groups_mean=[]\n",
    "    groups_std=[]\n",
    "    #MMpbp_2d=MM_new_2d\n",
    "    for i in range(clustern):\n",
    "        groups_mean.append(MMpbp[km.labels_.reshape(MM.shape[:2])==i].mean(axis=0))\n",
    "        groups_std.append(MMpbp[km.labels_.reshape(MM.shape[:2])==i].std(axis=0))\n",
    "        groups=append(groups_mean,groups_std,axis=1)\n",
    "    groups=np.array(groups_mean)\n",
    "\n",
    "    return groups, km.labels_.reshape(MM.shape[:2])"
   ]
  },
  {
   "cell_type": "code",
   "execution_count": null,
   "id": "78c403fd-2c1e-448b-8e94-11ccb157f6ad",
   "metadata": {},
   "outputs": [],
   "source": [
    "for file_path in fl:\n",
    "    print(file_path)\n",
    "    data=loadmat(file_path+'/FinalMM.mat')\n",
    "    MMpbp=loadmat(file_path+'/pbps.mat') ['pbps']\n",
    "    groups,km_labels=Superpixel_preprocessing(data,MMpbp,clustern=1024)       \n",
    "    savemat(file_path+'/groups.mat',{'groups':groups})\n",
    "    savemat(file_path+'/km_labels.mat',{'km_labels':km_labels})"
   ]
  },
  {
   "cell_type": "code",
   "execution_count": 1,
   "id": "a632f733-b9e3-4b34-a503-9296114941da",
   "metadata": {
    "execution": {
     "iopub.execute_input": "2023-06-04T07:40:09.879043Z",
     "iopub.status.busy": "2023-06-04T07:40:09.876050Z",
     "iopub.status.idle": "2023-06-04T07:40:10.197800Z",
     "shell.execute_reply": "2023-06-04T07:40:10.196802Z",
     "shell.execute_reply.started": "2023-06-04T07:40:09.877049Z"
    }
   },
   "outputs": [
    {
     "ename": "NameError",
     "evalue": "name 'loadmat' is not defined",
     "output_type": "error",
     "traceback": [
      "\u001b[1;31m---------------------------------------------------------------------------\u001b[0m",
      "\u001b[1;31mNameError\u001b[0m                                 Traceback (most recent call last)",
      "\u001b[1;32m~\\AppData\\Local\\Temp\\ipykernel_21112\\2087517361.py\u001b[0m in \u001b[0;36m<module>\u001b[1;34m\u001b[0m\n\u001b[1;32m----> 1\u001b[1;33m \u001b[0mdata\u001b[0m\u001b[1;33m=\u001b[0m\u001b[0mloadmat\u001b[0m\u001b[1;33m(\u001b[0m\u001b[1;34m'DATA/day2con/1+1'\u001b[0m\u001b[1;33m+\u001b[0m\u001b[1;34m'/FinalMM.mat'\u001b[0m\u001b[1;33m)\u001b[0m\u001b[1;33m\u001b[0m\u001b[1;33m\u001b[0m\u001b[0m\n\u001b[0m\u001b[0;32m      2\u001b[0m \u001b[0mtemp\u001b[0m\u001b[1;33m=\u001b[0m\u001b[1;33m[\u001b[0m\u001b[1;33m]\u001b[0m\u001b[1;33m\u001b[0m\u001b[1;33m\u001b[0m\u001b[0m\n\u001b[0;32m      3\u001b[0m parameters=['FinalM11','FinalM12','FinalM13','FinalM14',\n\u001b[0;32m      4\u001b[0m             \u001b[1;34m'FinalM21'\u001b[0m\u001b[1;33m,\u001b[0m\u001b[1;34m'FinalM22'\u001b[0m\u001b[1;33m,\u001b[0m\u001b[1;34m'FinalM23'\u001b[0m\u001b[1;33m,\u001b[0m\u001b[1;34m'FinalM24'\u001b[0m\u001b[1;33m,\u001b[0m\u001b[1;33m\u001b[0m\u001b[1;33m\u001b[0m\u001b[0m\n\u001b[0;32m      5\u001b[0m             \u001b[1;34m'FinalM31'\u001b[0m\u001b[1;33m,\u001b[0m\u001b[1;34m'FinalM32'\u001b[0m\u001b[1;33m,\u001b[0m\u001b[1;34m'FinalM33'\u001b[0m\u001b[1;33m,\u001b[0m\u001b[1;34m'FinalM34'\u001b[0m\u001b[1;33m,\u001b[0m\u001b[1;33m\u001b[0m\u001b[1;33m\u001b[0m\u001b[0m\n",
      "\u001b[1;31mNameError\u001b[0m: name 'loadmat' is not defined"
     ]
    }
   ],
   "source": [
    "data=loadmat('DATA/day2con/1+1'+'/FinalMM.mat') \n",
    "temp=[]\n",
    "parameters=['FinalM11','FinalM12','FinalM13','FinalM14',\n",
    "            'FinalM21','FinalM22','FinalM23','FinalM24',\n",
    "            'FinalM31','FinalM32','FinalM33','FinalM34',\n",
    "            'FinalM41','FinalM42','FinalM43','FinalM44']\n",
    "for para in parameters:\n",
    "    temp.append( data[para] )\n",
    "MM=stack(temp,axis=2) \n",
    "print(shape(MM))"
   ]
  },
  {
   "cell_type": "code",
   "execution_count": null,
   "id": "f09207b5-c3bf-4612-8bc6-cb5641237773",
   "metadata": {},
   "outputs": [],
   "source": [
    "DL=sqrt(MM[:,:,1]**2 + MM[:,:,2]**2)\n",
    "#PL=sqrt(MM[:,:,4]**2 + MM[:,:,8]**2)\n",
    "rL=sqrt(MM[:,:,7]**2 + MM[:,:,11]**2)\n",
    "#qL=sqrt(MM[:,:,13]**2 + MM[:,:,14]**2)\n",
    "t1=0.5*sqrt((MM[:,:,5]-MM[:,:,10])**2 + (MM[:,:,6]+MM[:,:,9])**2)\n",
    "parameter=['DL','FinalM14','t1','rL','FinalM41','FinalM44']"
   ]
  },
  {
   "cell_type": "code",
   "execution_count": null,
   "id": "f45c3c81-479a-4862-afdc-b1f782dfcc8c",
   "metadata": {},
   "outputs": [],
   "source": [
    "MM_new=stack((DL,MM[:,:,3],t1,rL,MM[:,:,12],MM[:,:,15]), axis=2)\n",
    "MM_new_2d=MM_new.reshape(MM_new.shape[0]*MM_new.shape[1],MM_new.shape[2])\n",
    "print(shape(MM_new_2d))\n",
    "DATA=DataFrame(MM_new_2d,columns=parameter)"
   ]
  },
  {
   "cell_type": "code",
   "execution_count": null,
   "id": "f344a6ac-8c75-40ec-acd9-0e9082faadd1",
   "metadata": {},
   "outputs": [],
   "source": [
    "plt.subplots(figsize = (30,20))\n",
    "sns.heatmap(DATA.corr().abs(),annot=True)\n",
    "DATA.hist(bins=200,figsize=(30,20))"
   ]
  },
  {
   "cell_type": "code",
   "execution_count": null,
   "id": "68db5159-a81f-4711-8763-cac147b59281",
   "metadata": {},
   "outputs": [],
   "source": [
    "from scipy import stats\n",
    "MM_new_2d[:,0],bc_para=stats.boxcox(MM_new_2d[:,0])\n",
    "MM_new_2d[:,2],bc_para=stats.boxcox(MM_new_2d[:,2])\n",
    "MM_new_2d[:,3],bc_para=stats.boxcox(MM_new_2d[:,3])\n",
    "ss=StandardScaler()\n",
    "xx=ss.fit_transform(MM_new_2d)\n",
    "XX=DataFrame(xx,columns=parameter)\n",
    "sns.heatmap(XX.corr().abs(),annot=True)\n",
    "XX.hist(bins=200,figsize=(30,20))"
   ]
  },
  {
   "cell_type": "code",
   "execution_count": null,
   "id": "2846f42c-d512-4d2d-84ac-2f6e03ba7588",
   "metadata": {},
   "outputs": [],
   "source": [
    "XX['FinalM44'].hist(bins=200,figsize=(30,20))"
   ]
  },
  {
   "cell_type": "code",
   "execution_count": null,
   "id": "a055ace4-5eee-4a49-ac65-20fe0deb9c5c",
   "metadata": {},
   "outputs": [],
   "source": [
    "imshow((xx[:,1]*xx[:,4]).reshape(MM.shape[0],MM.shape[1],1),vmin=-1,vmax=1)\n",
    "colorbar()"
   ]
  },
  {
   "cell_type": "code",
   "execution_count": null,
   "id": "8a9c1f9d-439e-4911-9cbc-30faca08cd71",
   "metadata": {},
   "outputs": [],
   "source": [
    "from sklearn.preprocessing import PolynomialFeatures\n",
    "poly=PolynomialFeatures(degree=5,include_bias=False,interaction_only=True)\n",
    "x_poly=poly.fit_transform(MM_new_2d)\n",
    "XX=pd.DataFrame(x_poly,columns=poly.get_feature_names())"
   ]
  },
  {
   "cell_type": "code",
   "execution_count": null,
   "id": "c17b6bfd-db4a-4116-9b55-d71939ad5347",
   "metadata": {},
   "outputs": [],
   "source": [
    "plt.subplots(figsize = (50,40))\n",
    "sns.heatmap(XX.corr().abs(),annot=True)"
   ]
  },
  {
   "cell_type": "markdown",
   "id": "308c6d3e-5b68-4329-a7e3-04f39f317dc1",
   "metadata": {
    "tags": []
   },
   "source": [
    "# Old Data"
   ]
  },
  {
   "cell_type": "code",
   "execution_count": null,
   "id": "b4036b99-194c-4565-a011-fff509747853",
   "metadata": {},
   "outputs": [],
   "source": [
    "fc2=['olddata/2_con1','olddata/2_con2','olddata/2_con3','olddata/2_con4','olddata/2_con5','olddata/2_con6']\n",
    "fc4=['olddata/4_con1','olddata/4_con2','olddata/4_con3','olddata/4_con4','olddata/4_con5','olddata/4_con6']\n",
    "fc6=['olddata/6_con1','olddata/6_con2','olddata/6_con3','olddata/6_con4','olddata/6_con5','olddata/6_con6']\n",
    "fc8=['olddata/8_con1','olddata/8_con2','olddata/8_con3','olddata/8_con4','olddata/8_con5','olddata/8_con6']\n",
    "fc10=['olddata/10_con1','olddata/10_con2','olddata/10_con3','olddata/10_con4','olddata/10_con5','olddata/10_con6']\n",
    "fc12=['olddata/12_con1','olddata/12_con2','olddata/12_con3','olddata/12_con4','olddata/12_con5','olddata/12_con6']\n",
    "fc14=['olddata/14_con1','olddata/14_con2','olddata/14_con3','olddata/14_con4','olddata/14_con5','olddata/14_con6']\n",
    "fc16=['olddata/16_con1','olddata/16_con2','olddata/16_con3','olddata/16_con4','olddata/16_con5','olddata/16_con6']\n",
    "fc18=['olddata/18_con1','olddata/18_con2','olddata/18_con3','olddata/18_con4','olddata/18_con5','olddata/18_con6']\n",
    "fc20=['olddata/20_con1','olddata/20_con2','olddata/20_con3','olddata/20_con4','olddata/20_con5','olddata/20_con6']\n",
    "fc22=['olddata/22_con1','olddata/22_con2','olddata/22_con3','olddata/22_con4','olddata/22_con5','olddata/22_con6']\n",
    "fc24=['olddata/24_con1','olddata/24_con2','olddata/24_con3','olddata/24_con4','olddata/24_con5','olddata/24_con6']\n",
    "fc26=['olddata/26_con1','olddata/26_con2','olddata/26_con3','olddata/26_con4','olddata/26_con5','olddata/26_con6']\n",
    "ft2=['olddata/2_T1','olddata/2_T2','olddata/2_T3','olddata/2_T4','olddata/2_T5','olddata/2_T6']\n",
    "ft4=['olddata/4_T1','olddata/4_T2','olddata/4_T3','olddata/4_T4','olddata/4_T5','olddata/4_T6']\n",
    "ft6=['olddata/6_T1','olddata/6_T2','olddata/6_T3','olddata/6_T4','olddata/6_T5','olddata/6_T6']\n",
    "ft8=['olddata/8_T1','olddata/8_T2','olddata/8_T3','olddata/8_T4','olddata/8_T5','olddata/8_T6']\n",
    "ft10=['olddata/10_T1','olddata/10_T2','olddata/10_T3','olddata/10_T4','olddata/10_T5','olddata/10_T6']\n",
    "ft12=['olddata/12_T1','olddata/12_T2','olddata/12_T3','olddata/12_T4','olddata/12_T5','olddata/12_T6']\n",
    "ft14=['olddata/14_T1','olddata/14_T2','olddata/14_T3','olddata/14_T4','olddata/14_T5','olddata/14_T6']\n",
    "ft16=['olddata/16_T1','olddata/16_T2','olddata/16_T3','olddata/16_T4','olddata/16_T5','olddata/16_T6']\n",
    "ft18=['olddata/18_T1','olddata/18_T2','olddata/18_T3','olddata/18_T4','olddata/18_T5','olddata/18_T6']\n",
    "ft20=['olddata/20_T1','olddata/20_T2','olddata/20_T3','olddata/20_T4','olddata/20_T5','olddata/20_T6']\n",
    "ft22=['olddata/22_T1','olddata/22_T2','olddata/22_T3','olddata/22_T4','olddata/22_T5','olddata/22_T6']\n",
    "ft24=['olddata/24_T1','olddata/24_T2','olddata/24_T3','olddata/24_T4','olddata/24_T5','olddata/24_T6']\n",
    "ft26=['olddata/26_T1','olddata/26_T2','olddata/26_T3','olddata/26_T4','olddata/26_T5','olddata/26_T6']"
   ]
  },
  {
   "cell_type": "code",
   "execution_count": null,
   "id": "0bcbfcd0-509e-42a4-b7d7-791487f5319a",
   "metadata": {},
   "outputs": [],
   "source": [
    "fl=fc2+fc4+fc6+fc8+fc10+fc12+fc14+fc16+fc18+fc20+fc22+fc24+fc26+ft2+ft4+ft6+ft8+ft10+ft12+ft14+ft16+ft18+ft20+ft22+ft24+ft26"
   ]
  }
 ],
 "metadata": {
  "kernelspec": {
   "display_name": "Python 3 (ipykernel)",
   "language": "python",
   "name": "python3"
  },
  "language_info": {
   "codemirror_mode": {
    "name": "ipython",
    "version": 3
   },
   "file_extension": ".py",
   "mimetype": "text/x-python",
   "name": "python",
   "nbconvert_exporter": "python",
   "pygments_lexer": "ipython3",
   "version": "3.11.4"
  },
  "toc-autonumbering": true
 },
 "nbformat": 4,
 "nbformat_minor": 5
}
