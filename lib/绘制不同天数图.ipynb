{
 "cells": [
  {
   "cell_type": "code",
   "execution_count": null,
   "id": "7a7c7890-5c9a-4f06-a43a-f81e299254ce",
   "metadata": {},
   "outputs": [],
   "source": []
  },
  {
   "cell_type": "code",
   "execution_count": null,
   "id": "06cf43d6",
   "metadata": {},
   "outputs": [],
   "source": [
    "# 从每2张切片上随机抽取30个roi,按顺序排列。不排列也可以，计算均值部分用get_index1函数即可。\n",
    "import random\n",
    "\n",
    "def get_index1(lst=None, item=''):\n",
    "    \"\"\"只能抽取纯字符串形式\"\"\"\n",
    "    return [index for (index,value) in enumerate(lst) if (item in value)]\n",
    "fl20 = []# fl20是抽取后的文件名\n",
    "for i1 in range(2,27,2):\n",
    "    day = \"day\" + str(i1)\n",
    "    # fl是所有文件名\n",
    "    indexc = get_index1(fl, day+\" c\")\n",
    "    indext = get_index1(fl, day+\" T\")\n",
    "    for i2 in random.sample(indexc, 30):\n",
    "        fl20.append(fl[i2])   \n",
    "    for i2 in random.sample(indext, 30):\n",
    "        fl20.append(fl[i2])  \n",
    "print(len(fl20))"
   ]
  },
  {
   "cell_type": "code",
   "execution_count": null,
   "id": "2440b70b",
   "metadata": {
    "code_folding": []
   },
   "outputs": [],
   "source": [
    "def Calculate_pixnum(Cluster_1 ,roi_num=31):\n",
    "    \"\"\"输入roi数量及超像素点序号，返回具体的像素点个数\n",
    "    \"\"\"\n",
    "    pt = 0\n",
    "    pixnum = []\n",
    "\n",
    "    for t in range(0,roi_num*1024+1):\n",
    "    #     if t < 3:\n",
    "    #         continue\n",
    "        if (t%1024)==0:\n",
    "            ind = t//1024 - 1\n",
    "            inx = ind + 1\n",
    "            if inx < roi_num:\n",
    "                sup_pix = loadmat(fl[inx]+'/no_emp_km_labels.mat')['ne_km_labels']\n",
    "            if t!=0:\n",
    "#                 print('\\n '+ str(t//1024-1)+':'+fl[ind])\n",
    "#                 print(pt)\n",
    "                pixnum.append(pt)\n",
    "            pt = 0\n",
    "        if t in Cluster_1:\n",
    "            pix_num = len(zeros(sup_pix.shape[:2])[sup_pix==(t%1024)])\n",
    "            pt += pix_num\n",
    "    return pixnum"
   ]
  },
  {
   "cell_type": "code",
   "execution_count": null,
   "id": "08f0b50d",
   "metadata": {},
   "outputs": [],
   "source": [
    "# 根据我的实测，看13个点的趋势的情况下，超像素的变化与具体像素点的数量差别并不明显。\n",
    "# 计算780个roi，超像素计算时间为3Min，具体像素点计算时间为3H\n",
    "# 便于排序，我把样本顺序排列了。如果样本没有顺序排列，可以用第一个cell里的get_index1获取索引列表\n",
    "Cmeans = []\n",
    "Tmeans = []\n",
    "cluster_labels = km.labels_.copy()# 降维聚类后的标记点\n",
    "\n",
    "for i in range(0, cluster_labels.max()+1):\n",
    "    obj_clt = i\n",
    "    Cluster_1 = []\n",
    "    Cmeans.append([])\n",
    "    Tmeans.append([])\n",
    "    for i in range(len(cluster_labels)):\n",
    "        if cluster_labels[i] == obj_clt:\n",
    "            Cluster_1.append(i)\n",
    "# 算具体像素点数，样本是按顺序排列的\n",
    "    pixnum = Calculate_pixnum(Cluster_1,roi_num=len(fl))\n",
    "    for ci in range(0,13,1):\n",
    "        Cmeans[obj_clt].append(np.mean(pixnum[ci*60:60*ci+30]))# 如果未按序排列，这里用get_index1替换\n",
    "        Tmeans[obj_clt].append(np.mean(pixnum[60*ci+30:60*ci+60]))# 同上一行\n",
    "# 算超像素个数\n",
    "#     spixnum = np.zeros((53))\n",
    "#     for point in Cluster_1:\n",
    "#         spixnum[point//(1024*30)] = spixnum[point//(1024*30)]+1\n",
    "#     for ci in range(0,26,2):\n",
    "#         Cmeans[obj_clt].append(spixnum[ci])\n",
    "#         Tmeans[obj_clt].append(spixnum[ci+1])"
   ]
  },
  {
   "cell_type": "code",
   "execution_count": null,
   "id": "c901a3fa",
   "metadata": {},
   "outputs": [],
   "source": [
    "# 画图\n",
    "for clusternum in range(0,6):# 这个类别是分类的数量\n",
    "    roipix = fin_img.shape[0]*fin_img.shape[1]\n",
    "    ratiox = np.zeros((27))# 样本天数\n",
    "    for dayi in range(2,26,2):\n",
    "        ratiox[dayi] = Cmeans[clusternum][dayi//2-1]\n",
    "        \n",
    "    timex = np.arange(0,26,2)\n",
    "    my_x_ticks = np.arange(0,26,2)\n",
    "    plt.xticks(my_x_ticks)\n",
    "    plt.plot(timex,np.array(Cmeans[clusternum][::-1]), label='Control')\n",
    "    \n",
    "    ratiox = np.zeros((26))\n",
    "    for dayi in range(2,26,2):\n",
    "        ratiox[dayi] = Tmeans[clusternum][dayi//2-1]\n",
    "#     plt.plot(timex,array(Tmeans[clusternum][::-1])/roipix, label='T')\n",
    "    plt.plot(timex,np.array(Tmeans[clusternum][::-1]), label='T')\n",
    "    \n",
    "    \n",
    "    ticklabel = ['0','1','2','3','4','5']\n",
    "    plt.title(ticklabel[clusternum])\n",
    "    plt.legend()\n",
    "    plt.savefig(\"G:/6cluster/\"+ticklabel[clusternum]+\".jpg\")# 这里的文件名注意更改下\n",
    "    plt.close()"
   ]
  }
 ],
 "metadata": {
  "kernelspec": {
   "display_name": "Python 3 (ipykernel)",
   "language": "python",
   "name": "python3"
  },
  "language_info": {
   "codemirror_mode": {
    "name": "ipython",
    "version": 3
   },
   "file_extension": ".py",
   "mimetype": "text/x-python",
   "name": "python",
   "nbconvert_exporter": "python",
   "pygments_lexer": "ipython3",
   "version": "3.9.7"
  },
  "varInspector": {
   "cols": {
    "lenName": 16,
    "lenType": 16,
    "lenVar": 40
   },
   "kernels_config": {
    "python": {
     "delete_cmd_postfix": "",
     "delete_cmd_prefix": "del ",
     "library": "var_list.py",
     "varRefreshCmd": "print(var_dic_list())"
    },
    "r": {
     "delete_cmd_postfix": ") ",
     "delete_cmd_prefix": "rm(",
     "library": "var_list.r",
     "varRefreshCmd": "cat(var_dic_list()) "
    }
   },
   "types_to_exclude": [
    "module",
    "function",
    "builtin_function_or_method",
    "instance",
    "_Feature"
   ],
   "window_display": false
  }
 },
 "nbformat": 4,
 "nbformat_minor": 5
}
