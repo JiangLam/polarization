{
 "cells": [
  {
   "cell_type": "code",
   "execution_count": null,
   "id": "3fedd837",
   "metadata": {},
   "outputs": [],
   "source": [
    "%matplotlib notebook\n",
    "from numpy import *\n",
    "from pylab import *\n",
    "from scipy.io import loadmat,savemat\n",
    "from hdf5storage import savemat, loadmat\n",
    "from scipy.ndimage import gaussian_filter,median_filter\n",
    "from sklearn.preprocessing import StandardScaler\n",
    "# import mat73"
   ]
  },
  {
   "cell_type": "code",
   "execution_count": null,
   "id": "c703c9a0",
   "metadata": {},
   "outputs": [],
   "source": [
    "#多个ROI计算超像素计算超像素\n",
    "def get_superpixel(reshaped_PBPData, clustern):\n",
    "    minikm=MiniBatchKMeans(n_clusters=clustern, batch_size=10*clustern, random_state=2021312732, n_init=3)\n",
    "    minikm.fit(reshaped_PBPData)\n",
    "    minikm_cluster_result_pic = minikm.labels_\n",
    "\n",
    "    superpixel_matrix=[]\n",
    "    for i in range(clustern):\n",
    "        superpixel_matrix.append(reshaped_PBPData[minikm_cluster_result_pic==i].mean(axis=0))\n",
    "    superpixel_matrix=np.array(superpixel_matrix)\n",
    "\n",
    "    return superpixel_matrix, minikm_cluster_result_pic"
   ]
  },
  {
   "cell_type": "markdown",
   "id": "df4ce8a0",
   "metadata": {},
   "source": [
    "# 一起做超像素"
   ]
  },
  {
   "cell_type": "code",
   "execution_count": null,
   "id": "f926676a",
   "metadata": {},
   "outputs": [],
   "source": [
    "###############################################################################################################################\n",
    "Mueller_File_Path_list1 = 'F:/微囊藻加压2023-10/1016/正常/19'\n",
    "#     'E:/A藻_data/微囊藻/L_1122配准/加压0.4/40X/1'\n",
    "\n",
    "\n",
    "# ###############################################################################################################################\n",
    "mask = loadmat(Mueller_File_Path_list1+'/background_mask.mat')\n",
    "algae_mask=mask['background_mask']==0\n",
    "\n",
    "MMPBP1 = loadmat(Mueller_File_Path_list1+'/pbps.mat')['pbps'] \n",
    "\n",
    "\n",
    "MMPBP1=MMPBP1[algae_mask]\n",
    "\n",
    "# labeled_mask1 = np.ones((MMPBP1.shape[0]*MMPBP1.shape[1], ), dtype=int)\n",
    "labeled_mask1 = np.ones((MMPBP1.shape[0], ), dtype=int)\n",
    "\n",
    "labeled_mask1 = np.dot(labeled_mask1, 1)\n",
    "memory_mask = labeled_mask1"
   ]
  },
  {
   "cell_type": "code",
   "execution_count": null,
   "id": "0cad5b94",
   "metadata": {},
   "outputs": [],
   "source": [
    "###############################################################################################################################\n",
    "Mueller_File_Path_list2 = 'F:/微囊藻加压2023-10/1017/0.1MPa/1'\n",
    "#     'E:/A藻_data/微囊藻/L_1122配准/加压0.4/40X/1'\n",
    "\n",
    "\n",
    "# ###############################################################################################################################\n",
    "mask = loadmat(Mueller_File_Path_list2+'/background_mask.mat')\n",
    "algae_mask=mask['background_mask']==0\n",
    "\n",
    "MMPBP2 = loadmat(Mueller_File_Path_list2+'/pbps.mat')['pbps'] \n",
    "\n",
    "\n",
    "MMPBP2=MMPBP2[algae_mask]\n",
    "\n",
    "# labeled_mask1 = np.ones((MMPBP1.shape[0]*MMPBP1.shape[1], ), dtype=int)\n",
    "labeled_mask1 = np.ones((MMPBP2.shape[0], ), dtype=int)\n",
    "\n",
    "labeled_mask1 = np.dot(labeled_mask1, 2)\n",
    "memory_mask = np.concatenate((memory_mask, labeled_mask1), axis=0)\n"
   ]
  },
  {
   "cell_type": "code",
   "execution_count": null,
   "id": "84ad56b6",
   "metadata": {},
   "outputs": [],
   "source": [
    "###############################################################################################################################\n",
    "Mueller_File_Path_list3 = 'F:/微囊藻加压2023-10/1017/0.2MPa/4'\n",
    "#     'E:/A藻_data/微囊藻/L_1122配准/加压0.4/40X/1'\n",
    "\n",
    "\n",
    "# ###############################################################################################################################\n",
    "mask = loadmat(Mueller_File_Path_list3+'/background_mask.mat')\n",
    "algae_mask=mask['background_mask']==0\n",
    "\n",
    "MMPBP3 = loadmat(Mueller_File_Path_list3+'/pbps.mat')['pbps'] \n",
    "\n",
    "\n",
    "MMPBP3=MMPBP3[algae_mask]\n",
    "\n",
    "# labeled_mask1 = np.ones((MMPBP1.shape[0]*MMPBP1.shape[1], ), dtype=int)\n",
    "labeled_mask1 = np.ones((MMPBP3.shape[0], ), dtype=int)\n",
    "\n",
    "labeled_mask1 = np.dot(labeled_mask1, 3)\n",
    "memory_mask = np.concatenate((memory_mask, labeled_mask1), axis=0)\n"
   ]
  },
  {
   "cell_type": "code",
   "execution_count": null,
   "id": "e0f83ce6",
   "metadata": {},
   "outputs": [],
   "source": [
    "###############################################################################################################################\n",
    "Mueller_File_Path_list4 = 'F:/微囊藻加压2023-10/1017/0.3MPa/6'\n",
    "#     'E:/A藻_data/微囊藻/L_1122配准/加压0.4/40X/1'\n",
    "\n",
    "\n",
    "# ###############################################################################################################################\n",
    "mask = loadmat(Mueller_File_Path_list4+'/background_mask.mat')\n",
    "algae_mask=mask['background_mask']==0\n",
    "\n",
    "MMPBP4 = loadmat(Mueller_File_Path_list4+'/pbps.mat')['pbps'] \n",
    "\n",
    "\n",
    "MMPBP4=MMPBP4[algae_mask]\n",
    "\n",
    "# labeled_mask1 = np.ones((MMPBP1.shape[0]*MMPBP1.shape[1], ), dtype=int)\n",
    "labeled_mask1 = np.ones((MMPBP4.shape[0], ), dtype=int)\n",
    "\n",
    "labeled_mask1 = np.dot(labeled_mask1, 4)\n",
    "memory_mask = np.concatenate((memory_mask, labeled_mask1), axis=0)\n"
   ]
  },
  {
   "cell_type": "code",
   "execution_count": null,
   "id": "be582dca",
   "metadata": {},
   "outputs": [],
   "source": [
    "###############################################################################################################################\n",
    "Mueller_File_Path_list5 = 'F:/微囊藻加压2023-10/1017/0.4MPa/17'\n",
    "#     'E:/A藻_data/微囊藻/L_1122配准/加压0.4/40X/1'\n",
    "\n",
    "\n",
    "# ###############################################################################################################################\n",
    "mask = loadmat(Mueller_File_Path_list5+'/background_mask.mat')\n",
    "algae_mask=mask['background_mask']==0\n",
    "\n",
    "MMPBP5 = loadmat(Mueller_File_Path_list5+'/pbps.mat')['pbps'] \n",
    "\n",
    "\n",
    "MMPBP5=MMPBP5[algae_mask]\n",
    "\n",
    "# labeled_mask1 = np.ones((MMPBP1.shape[0]*MMPBP1.shape[1], ), dtype=int)\n",
    "labeled_mask1 = np.ones((MMPBP5.shape[0], ), dtype=int)\n",
    "\n",
    "labeled_mask1 = np.dot(labeled_mask1, 5)\n",
    "memory_mask = np.concatenate((memory_mask, labeled_mask1), axis=0)\n"
   ]
  },
  {
   "cell_type": "code",
   "execution_count": null,
   "id": "c852a624",
   "metadata": {},
   "outputs": [],
   "source": [
    "###############################################################################################################################\n",
    "Mueller_File_Path_list6 = 'F:/微囊藻加压2023-10/1017/0.5MPa/5'\n",
    "#     'E:/A藻_data/微囊藻/L_1122配准/加压0.4/40X/1'\n",
    "\n",
    "\n",
    "# ###############################################################################################################################\n",
    "mask = loadmat(Mueller_File_Path_list6+'/background_mask.mat')\n",
    "algae_mask=mask['background_mask']==0\n",
    "\n",
    "MMPBP6 = loadmat(Mueller_File_Path_list6+'/pbps.mat')['pbps'] \n",
    "\n",
    "\n",
    "MMPBP6=MMPBP6[algae_mask]\n",
    "\n",
    "# labeled_mask1 = np.ones((MMPBP1.shape[0]*MMPBP1.shape[1], ), dtype=int)\n",
    "labeled_mask1 = np.ones((MMPBP6.shape[0], ), dtype=int)\n",
    "\n",
    "labeled_mask1 = np.dot(labeled_mask1, 6)\n",
    "memory_mask = np.concatenate((memory_mask, labeled_mask1), axis=0)\n"
   ]
  },
  {
   "cell_type": "code",
   "execution_count": null,
   "id": "c65cf430",
   "metadata": {},
   "outputs": [],
   "source": [
    "MMPBP = np.concatenate((MMPBP1, MMPBP2, MMPBP3, MMPBP4, MMPBP5, MMPBP6), axis=0)\n"
   ]
  },
  {
   "cell_type": "code",
   "execution_count": null,
   "id": "d9746dd0",
   "metadata": {},
   "outputs": [],
   "source": [
    "clustern=512\n",
    "\n",
    "superpixel_matrix, minikm_cluster_result_pic = get_superpixel(MMPBP, clustern=clustern)\n",
    "\n",
    "temp_mask = memory_mask == 1\n",
    "temp_mask = np.array(temp_mask, dtype=int)\n",
    "threshold_value1 = temp_mask.sum()\n",
    "\n",
    "temp_mask = memory_mask <= 2\n",
    "temp_mask = np.array(temp_mask, dtype=int)\n",
    "threshold_value2 = temp_mask.sum()\n",
    "\n",
    "temp_mask = memory_mask <= 3\n",
    "temp_mask = np.array(temp_mask, dtype=int)\n",
    "threshold_value3 = temp_mask.sum()\n",
    "\n",
    "temp_mask = memory_mask <= 4\n",
    "temp_mask = np.array(temp_mask, dtype=int)\n",
    "threshold_value4 = temp_mask.sum()\n",
    "\n",
    "temp_mask = memory_mask <= 5\n",
    "temp_mask = np.array(temp_mask, dtype=int)\n",
    "threshold_value5 = temp_mask.sum()\n",
    "\n",
    "temp_mask = memory_mask <= 6\n",
    "temp_mask = np.array(temp_mask, dtype=int)\n",
    "threshold_value6 = temp_mask.sum()\n",
    "\n",
    "\n",
    "minikm_cluster_result_pic1 = minikm_cluster_result_pic[0:threshold_value1]  ##已知的正常ROI \n",
    "minikm_cluster_result_pic2 = minikm_cluster_result_pic[threshold_value1:threshold_value2]   ##用于比较的roi1\n",
    "minikm_cluster_result_pic3 = minikm_cluster_result_pic[threshold_value2:threshold_value3]   ##用于比较的roi2\n",
    "minikm_cluster_result_pic4 = minikm_cluster_result_pic[threshold_value3:threshold_value4]   ##用于比较的roi2\n",
    "minikm_cluster_result_pic5 = minikm_cluster_result_pic[threshold_value4:threshold_value5]   ##用于比较的roi2\n",
    "minikm_cluster_result_pic6 = minikm_cluster_result_pic[threshold_value5:threshold_value6]   ##用于比较的roi2\n",
    "\n",
    "\n"
   ]
  },
  {
   "cell_type": "code",
   "execution_count": null,
   "id": "7c2a7e30",
   "metadata": {},
   "outputs": [],
   "source": [
    "savemat('F:/微囊藻加压2023-10/analysis_results/super-pixels变化/0-0.6/superpixel_matrix.mat',{'superpixel_matrix':superpixel_matrix})\n",
    "savemat('F:/微囊藻加压2023-10/analysis_results/super-pixels变化/0-0.6/minikm_cluster_result_pic.mat',{'minikm_cluster_result_pic':minikm_cluster_result_pic})\n",
    "savemat('F:/微囊藻加压2023-10/analysis_results/super-pixels变化/0-0.6/memory_mask.mat',{'memory_mask':memory_mask})\n"
   ]
  },
  {
   "cell_type": "code",
   "execution_count": null,
   "id": "dd7237e9",
   "metadata": {},
   "outputs": [],
   "source": [
    "## 每种roi像素在总像素中的占比\n",
    "\n",
    "from tqdm import tqdm\n",
    "ratios_=[]\n",
    "for i in tqdm(range(clustern)):\n",
    "    temp_array = array([sum(minikm_cluster_result_pic1==i),sum(minikm_cluster_result_pic2==i),\n",
    "                        sum(minikm_cluster_result_pic3==i),\n",
    "                        sum(minikm_cluster_result_pic4==i),\n",
    "                        sum(minikm_cluster_result_pic5==i),\n",
    "                        sum(minikm_cluster_result_pic6==i),\n",
    "                       ])\n",
    "    temp_array = temp_array/temp_mask.sum()\n",
    "                       \n",
    "    ratios_.append( temp_array )\n",
    "    \n",
    "ratios_ = array(ratios_)"
   ]
  },
  {
   "cell_type": "code",
   "execution_count": null,
   "id": "8801741c",
   "metadata": {},
   "outputs": [],
   "source": [
    "inds = ratios_[:,0]\n",
    "\n",
    "ind_order=argsort( inds - ratios_[:,1])[::-1]\n",
    "ind_order_2=argsort( inds - ratios_[:,2])[::-1]\n",
    "ind_order_3=argsort( inds - ratios_[:,3])[::-1]\n",
    "ind_order_4=argsort( inds - ratios_[:,4])[::-1]\n",
    "ind_order_5=argsort( inds - ratios_[:,5])[::-1]\n",
    "\n",
    "\n",
    "plot( (inds - ratios_[:,1])[ind_order], label='0.1MPa')\n",
    "# plot( (inds - ratios_[:,2])[ind_order_2], label='0.2MPa')\n",
    "\n",
    "# plot( (inds - ratios_[:,3])[ind_order_3], label='0.3MPa')\n",
    "# plot( (inds - ratios_[:,4])[ind_order_4], label='0.4MPa')\n",
    "# plot( (inds - ratios_[:,5])[ind_order_5], label='0.5MPa')\n",
    "legend()"
   ]
  },
  {
   "cell_type": "markdown",
   "id": "1e640cbd",
   "metadata": {},
   "source": [
    "# 聚类"
   ]
  },
  {
   "cell_type": "code",
   "execution_count": null,
   "id": "b200f32d-4303-420c-acf7-3f6b4399adc5",
   "metadata": {},
   "outputs": [],
   "source": []
  },
  {
   "cell_type": "code",
   "execution_count": null,
   "id": "284fce9c",
   "metadata": {},
   "outputs": [],
   "source": [
    "\n",
    "SP_01 = flip(argsort( inds- ratios_[:,4] ))[:100]\n",
    "# SP_01 = ind_order_4[:100]"
   ]
  },
  {
   "cell_type": "code",
   "execution_count": null,
   "id": "98b9a273",
   "metadata": {},
   "outputs": [],
   "source": [
    "###### 变化大的超像素做聚类\n",
    "\n",
    "from sklearn.preprocessing import StandardScaler\n",
    "\n",
    "ss=StandardScaler()\n",
    "xxx_=ss.fit_transform(superpixel_matrix[SP_01][:])  \n",
    "\n",
    "\n",
    "import umap\n",
    "umap_reducer=umap.UMAP(n_components=2,n_neighbors=30,min_dist=0,metric='canberra',spread=1.,\n",
    "                       verbose=True,random_state=2021214636,n_epochs=200)  \n",
    "umap_reducer.fit(xxx_[:,] )\n",
    "\n",
    "xxx=umap_reducer.transform(xxx_[:,]).astype('float16')\n",
    "\n",
    "\n",
    "# scatter(xxx[:,0],xxx[:,1],s=0.01)   ## umap显示 "
   ]
  },
  {
   "cell_type": "code",
   "execution_count": null,
   "id": "6c622ca5",
   "metadata": {},
   "outputs": [],
   "source": [
    "# %matplotlib notebook\n",
    "scatter(xxx[:,0],xxx[:,1],s=10)   ## umap显示 "
   ]
  },
  {
   "cell_type": "code",
   "execution_count": null,
   "id": "2f0b4e2e",
   "metadata": {},
   "outputs": [],
   "source": [
    "## KMeans 聚类\n",
    "from sklearn.cluster import AgglomerativeClustering,KMeans\n",
    "\n",
    "ac=KMeans(n_clusters=2,init='k-means++')\n",
    "ac.fit(xxx)\n",
    "\n",
    "cluster_labels=ac.labels_"
   ]
  },
  {
   "cell_type": "code",
   "execution_count": null,
   "id": "20ea5035",
   "metadata": {},
   "outputs": [],
   "source": [
    "\n",
    "scatter(xxx[cluster_labels==0,0],xxx[cluster_labels==0,1],s=10,label=str(0),)\n",
    "scatter(xxx[cluster_labels==1,0],xxx[cluster_labels==1,1],s=10,label=str(1),)\n",
    "axis('off')"
   ]
  },
  {
   "cell_type": "markdown",
   "id": "021d97f1",
   "metadata": {},
   "source": [
    "# 映射回M11"
   ]
  },
  {
   "cell_type": "code",
   "execution_count": null,
   "id": "a7e5b0ba",
   "metadata": {},
   "outputs": [],
   "source": [
    "mask = loadmat(Mueller_File_Path_list5+'/background_mask.mat')\n",
    "algae_mask = mask['background_mask']==0\n",
    "\n",
    "m11 = loadmat(Mueller_File_Path_list5+'/m11.mat')['CalibratedM11']\n",
    "\n",
    "\n",
    "temp = minikm_cluster_result_pic5 == SP_01[cluster_labels==0][0]\n",
    "for i in SP_01[cluster_labels==0]:\n",
    "# temp = minikm_cluster_result_pic1 == SP_01[0]\n",
    "# for i in SP_01:\n",
    "    temp += minikm_cluster_result_pic5 == i\n",
    "temp = temp != 0\n",
    "print(temp.shape)\n",
    "import copy\n",
    "temp_algae_mask = copy.deepcopy(algae_mask)\n",
    "print(temp_algae_mask[temp_algae_mask])\n",
    "temp_algae_mask[temp_algae_mask] = temp\n",
    "print(temp_algae_mask[temp_algae_mask].shape)\n",
    "# plt.figure()\n",
    "# plt.imshow(temp_algae_mask,'jet')\n"
   ]
  },
  {
   "cell_type": "code",
   "execution_count": null,
   "id": "5f5479d9",
   "metadata": {},
   "outputs": [],
   "source": [
    "a = 500\n",
    "b = 1000\n",
    "c = 1500\n",
    "d = 2050\n",
    "\n",
    "\n",
    "# a = 1200\n",
    "# b = 1400\n",
    "# c = 600\n",
    "# d = 850\n",
    "\n",
    "%matplotlib notebook\n",
    "plt.figure()\n",
    "# subplot(1,2,1)\n",
    "imshow(m11[a:b,c:d],'gray')\n",
    "imshow(temp_algae_mask[a:b,c:d],'summer',alpha=temp_algae_mask[a:b,c:d]*0.7)  #autumn  viridis   autumn  cool gist_rainbow  spring  summer\n",
    "axis('off')\n"
   ]
  },
  {
   "cell_type": "code",
   "execution_count": null,
   "id": "3044d979",
   "metadata": {},
   "outputs": [],
   "source": []
  }
 ],
 "metadata": {
  "kernelspec": {
   "display_name": "Python 3 (ipykernel)",
   "language": "python",
   "name": "python3"
  },
  "language_info": {
   "codemirror_mode": {
    "name": "ipython",
    "version": 3
   },
   "file_extension": ".py",
   "mimetype": "text/x-python",
   "name": "python",
   "nbconvert_exporter": "python",
   "pygments_lexer": "ipython3",
   "version": "3.11.4"
  },
  "toc": {
   "base_numbering": 1,
   "nav_menu": {},
   "number_sections": true,
   "sideBar": true,
   "skip_h1_title": false,
   "title_cell": "Table of Contents",
   "title_sidebar": "Contents",
   "toc_cell": false,
   "toc_position": {},
   "toc_section_display": true,
   "toc_window_display": false
  }
 },
 "nbformat": 4,
 "nbformat_minor": 5
}
